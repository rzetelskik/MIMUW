{
  "nbformat": 4,
  "nbformat_minor": 0,
  "metadata": {
    "kernelspec": {
      "name": "python3",
      "display_name": "Python 3"
    },
    "colab": {
      "name": "Exercise_1_P3.ipynb",
      "provenance": [],
      "collapsed_sections": []
    }
  },
  "cells": [
    {
      "cell_type": "markdown",
      "metadata": {
        "id": "s47n23ty7ss5"
      },
      "source": [
        "# Simple linear regression \n",
        "\n",
        "In this exercise you will train a linear regression model via gradient descent in the simplest scenario, i.e. recreating an affine function.\n",
        "\n",
        "The setup is as follows:\n",
        "* we are given a set of pairs $(x, y)$, where $x$ represents the feature, and $y$ is the target,\n",
        "* our hypothesis is $h(x) = ax + b$,\n",
        "* we will use the dataset consisting of set of pairs to figure out the right values for $a$ and $b$,\n",
        "* to do so we will optimize the loss function: $J(a,b) = \\frac{1}{n}\\sum_{i=1}^n (y_i - h(x_i))^2$,\n",
        "* with the loss function in hand we can improve our guesses iteratively:\n",
        "    * $a^{t+1} = a^t - \\text{step_size} \\cdot \\frac{\\partial J(a,b)}{\\partial a}$,\n",
        "    * $b^{t+1} = b^t - \\text{step_size} \\cdot \\frac{\\partial J(a,b)}{\\partial b}$,\n",
        "* we can end the process after some predefined number of epochs (or when the changes are no longer meaningful).\n",
        "\n",
        "Let's start with creating the dataset."
      ]
    },
    {
      "cell_type": "code",
      "metadata": {
        "id": "hOm-6OMd7ss7"
      },
      "source": [
        "%matplotlib inline\n",
        "\n",
        "import random\n",
        "\n",
        "_a = 0.3\n",
        "_b = 0.5\n",
        "\n",
        "f = lambda x: _a * x + _b # ground truth\n",
        "g = lambda x: f(x) + random.gauss(0, 0.02) # a noisy version of f"
      ],
      "execution_count": null,
      "outputs": []
    },
    {
      "cell_type": "code",
      "metadata": {
        "id": "2EQLIz_Y7stB"
      },
      "source": [
        "n = 50 # number of examples\n",
        "\n",
        "xs = [random.random() for _ in range(n)] # features\n",
        "ys = list(map(g, xs)) # targets\n",
        "\n",
        "ts = list(map(f, xs)) # we don't get to see this"
      ],
      "execution_count": null,
      "outputs": []
    },
    {
      "cell_type": "markdown",
      "metadata": {
        "id": "oyIWYrek7stF"
      },
      "source": [
        "Our goal is to recreate $f$. However, as reality can be harsh (and usually is) we only get to observe $g$. We observe it as a list of pairs $(x,y) \\in \\text{zip}(xs, ys)$.\n",
        "\n",
        "Let's plot the data."
      ]
    },
    {
      "cell_type": "code",
      "metadata": {
        "id": "UBp8TaLJ7stH",
        "colab": {
          "base_uri": "https://localhost:8080/",
          "height": 663
        },
        "outputId": "42897218-7d24-4841-fb7c-aa69de13221d"
      },
      "source": [
        "import matplotlib.pyplot as plt\n",
        "import seaborn as sns\n",
        "\n",
        "fig = plt.figure(figsize=(11, 11))\n",
        "plt.scatter(xs, ys)"
      ],
      "execution_count": null,
      "outputs": [
        {
          "output_type": "execute_result",
          "data": {
            "text/plain": [
              "<matplotlib.collections.PathCollection at 0x7fd2455358d0>"
            ]
          },
          "metadata": {
            "tags": []
          },
          "execution_count": 4
        },
        {
          "output_type": "display_data",
          "data": {
            "image/png": "[encoded data removed]",
            "text/plain": [
              "<Figure size 792x792 with 1 Axes>"
            ]
          },
          "metadata": {
            "tags": [],
            "needs_background": "light"
          }
        }
      ]
    },
    {
      "cell_type": "code",
      "metadata": {
        "id": "nRqybzzs7stM"
      },
      "source": [
        "def l2_loss(ys, ps):\n",
        "    assert len(ys) == len(ps)\n",
        "    n = len(ps)\n",
        "\n",
        "    J = 1/n * sum([(y - p)**2 for (y,p) in zip(ys, ps)])\n",
        "\n",
        "    return J"
      ],
      "execution_count": null,
      "outputs": []
    },
    {
      "cell_type": "markdown",
      "metadata": {
        "id": "ofYLNJM87stQ"
      },
      "source": [
        "Please take a while to (roughly) guess the output before executing the cell below."
      ]
    },
    {
      "cell_type": "code",
      "metadata": {
        "id": "CMavAdN77stR",
        "colab": {
          "base_uri": "https://localhost:8080/"
        },
        "outputId": "8e275ed9-ff09-43b4-8bed-528e29380ca6"
      },
      "source": [
        "l2_loss(ys, ts)"
      ],
      "execution_count": null,
      "outputs": [
        {
          "output_type": "execute_result",
          "data": {
            "text/plain": [
              "0.00042243046102435824"
            ]
          },
          "metadata": {
            "tags": []
          },
          "execution_count": 6
        }
      ]
    },
    {
      "cell_type": "markdown",
      "metadata": {
        "id": "RTRbX1tm7stV"
      },
      "source": [
        "Let's now implement the algorithm\n",
        "\n",
        "Hint: To make sure that you correctly compute the gradients, you can compute them numerically and compare the results. "
      ]
    },
    {
      "cell_type": "code",
      "metadata": {
        "id": "ChxX0fEL7stW",
        "colab": {
          "base_uri": "https://localhost:8080/"
        },
        "outputId": "7fb4daee-1341-48da-8d3e-1805dc7f0c2b"
      },
      "source": [
        "import time\n",
        "\n",
        "a = 0. # our initial guess for _a\n",
        "b = 0. # our initial guess for _b\n",
        "lr = 0.5 # step size\n",
        "\n",
        "n_epochs = 40 # number of passes over the training data\n",
        "\n",
        "def predict(a, b, xs=xs):\n",
        "    return [a * x + b for x in xs]\n",
        "\n",
        "def evaluate(a, b, xs=xs, ys=ys):\n",
        "    return l2_loss(ys, predict(a, b, xs))\n",
        "\n",
        "losses = [evaluate(a, b)]\n",
        "\n",
        "start = time.time()\n",
        "\n",
        "for i in range(n_epochs):\n",
        "    ps = predict(a,b)\n",
        "    a = a - lr * 1/len(xs)*sum([-2*x*(y - p) for (x,y,p) in zip(xs,ys,ps)])\n",
        "    b = b - lr * 1/len(xs)*sum([-2*(y - p) for (y, p) in zip(ys,ps)])\n",
        "    \n",
        "    loss = evaluate(a, b)\n",
        "    losses.append(loss)\n",
        "    \n",
        "    print('Iter: {:>3} Loss: {:8.8f} a: {:8.5f}, b: {:8.5f}'.format(i, loss, a, b))\n",
        "\n",
        "end = time.time()\n",
        "\n",
        "print('TIME: ', end - start)"
      ],
      "execution_count": null,
      "outputs": [
        {
          "output_type": "stream",
          "text": [
            "Iter:   0 Loss: 0.02956252 a:  0.34556, b:  0.64721\n",
            "Iter:   1 Loss: 0.00244509 a:  0.25744, b:  0.47714\n",
            "Iter:   2 Loss: 0.00059160 a:  0.28238, b:  0.52051\n",
            "Iter:   3 Loss: 0.00046079 a:  0.27767, b:  0.50823\n",
            "Iter:   4 Loss: 0.00044801 a:  0.28057, b:  0.51055\n",
            "Iter:   5 Loss: 0.00044381 a:  0.28136, b:  0.50912\n",
            "Iter:   6 Loss: 0.00044066 a:  0.28259, b:  0.50873\n",
            "Iter:   7 Loss: 0.00043798 a:  0.28361, b:  0.50813\n",
            "Iter:   8 Loss: 0.00043568 a:  0.28458, b:  0.50763\n",
            "Iter:   9 Loss: 0.00043370 a:  0.28547, b:  0.50715\n",
            "Iter:  10 Loss: 0.00043199 a:  0.28631, b:  0.50671\n",
            "Iter:  11 Loss: 0.00043052 a:  0.28708, b:  0.50630\n",
            "Iter:  12 Loss: 0.00042925 a:  0.28779, b:  0.50592\n",
            "Iter:  13 Loss: 0.00042816 a:  0.28846, b:  0.50557\n",
            "Iter:  14 Loss: 0.00042722 a:  0.28907, b:  0.50524\n",
            "Iter:  15 Loss: 0.00042642 a:  0.28965, b:  0.50494\n",
            "Iter:  16 Loss: 0.00042572 a:  0.29018, b:  0.50466\n",
            "Iter:  17 Loss: 0.00042512 a:  0.29067, b:  0.50440\n",
            "Iter:  18 Loss: 0.00042461 a:  0.29112, b:  0.50415\n",
            "Iter:  19 Loss: 0.00042416 a:  0.29155, b:  0.50393\n",
            "Iter:  20 Loss: 0.00042378 a:  0.29194, b:  0.50372\n",
            "Iter:  21 Loss: 0.00042345 a:  0.29231, b:  0.50353\n",
            "Iter:  22 Loss: 0.00042317 a:  0.29265, b:  0.50335\n",
            "Iter:  23 Loss: 0.00042293 a:  0.29296, b:  0.50318\n",
            "Iter:  24 Loss: 0.00042272 a:  0.29325, b:  0.50303\n",
            "Iter:  25 Loss: 0.00042254 a:  0.29352, b:  0.50288\n",
            "Iter:  26 Loss: 0.00042238 a:  0.29377, b:  0.50275\n",
            "Iter:  27 Loss: 0.00042225 a:  0.29400, b:  0.50263\n",
            "Iter:  28 Loss: 0.00042213 a:  0.29422, b:  0.50251\n",
            "Iter:  29 Loss: 0.00042203 a:  0.29442, b:  0.50241\n",
            "Iter:  30 Loss: 0.00042195 a:  0.29461, b:  0.50231\n",
            "Iter:  31 Loss: 0.00042187 a:  0.29478, b:  0.50222\n",
            "Iter:  32 Loss: 0.00042181 a:  0.29494, b:  0.50213\n",
            "Iter:  33 Loss: 0.00042176 a:  0.29509, b:  0.50205\n",
            "Iter:  34 Loss: 0.00042171 a:  0.29523, b:  0.50198\n",
            "Iter:  35 Loss: 0.00042167 a:  0.29535, b:  0.50191\n",
            "Iter:  36 Loss: 0.00042163 a:  0.29547, b:  0.50185\n",
            "Iter:  37 Loss: 0.00042160 a:  0.29558, b:  0.50179\n",
            "Iter:  38 Loss: 0.00042158 a:  0.29568, b:  0.50174\n",
            "Iter:  39 Loss: 0.00042156 a:  0.29578, b:  0.50169\n",
            "TIME:  0.008800506591796875\n"
          ],
          "name": "stdout"
        }
      ]
    },
    {
      "cell_type": "code",
      "metadata": {
        "colab": {
          "base_uri": "https://localhost:8080/"
        },
        "id": "TWk5ALFnGRxB",
        "outputId": "b7915f3e-9ca4-4c65-cdb9-27eeb3f10d48"
      },
      "source": [
        "# vectorized\n",
        "import numpy as np\n",
        "\n",
        "X = np.array(xs)\n",
        "X = X.transpose()\n",
        "X = np.c_[np.ones(X.shape[0]), X]\n",
        "\n",
        "y = np.array(ys)\n",
        "theta = np.zeros(X.shape[1])\n",
        "\n",
        "n = X.shape[0]\n",
        "alpha = 0.5\n",
        "n_epochs = 40 # number of passes over the training data\n",
        "\n",
        "def cost(theta, X=X, y=y):\n",
        "  n = y.shape[0]\n",
        "  return 1/n * sum((X @ theta - y)**2)\n",
        "\n",
        "\n",
        "losses = [cost(theta)]\n",
        "\n",
        "start = time.time()\n",
        "\n",
        "for i in range(n_epochs):\n",
        "  theta = theta - alpha/n * (X.transpose() @ ((X @ theta)  - y))\n",
        "\n",
        "  loss = cost(theta)\n",
        "  losses.append(loss)\n",
        "  print('Iter: {:>3} Loss: {:8.8f} a: {:8.5f}, b: {:8.5f}'.format(i, loss, theta[1], theta[0]))\n",
        "\n",
        "end = time.time()\n",
        "print('TIME: ', end - start)"
      ],
      "execution_count": null,
      "outputs": [
        {
          "output_type": "stream",
          "text": [
            "Iter:   0 Loss: 0.05873997 a:  0.17278, b:  0.32361\n",
            "Iter:   1 Loss: 0.00842255 a:  0.23714, b:  0.44289\n",
            "Iter:   2 Loss: 0.00155117 a:  0.26142, b:  0.48669\n",
            "Iter:   3 Loss: 0.00061054 a:  0.27088, b:  0.50262\n",
            "Iter:   4 Loss: 0.00047967 a:  0.27484, b:  0.50826\n",
            "Iter:   5 Loss: 0.00045950 a:  0.27676, b:  0.51010\n",
            "Iter:   6 Loss: 0.00045462 a:  0.27790, b:  0.51055\n",
            "Iter:   7 Loss: 0.00045197 a:  0.27874, b:  0.51049\n",
            "Iter:   8 Loss: 0.00044976 a:  0.27946, b:  0.51026\n",
            "Iter:   9 Loss: 0.00044775 a:  0.28011, b:  0.50997\n",
            "Iter:  10 Loss: 0.00044588 a:  0.28073, b:  0.50966\n",
            "Iter:  11 Loss: 0.00044415 a:  0.28132, b:  0.50935\n",
            "Iter:  12 Loss: 0.00044254 a:  0.28188, b:  0.50905\n",
            "Iter:  13 Loss: 0.00044104 a:  0.28243, b:  0.50877\n",
            "Iter:  14 Loss: 0.00043965 a:  0.28295, b:  0.50849\n",
            "Iter:  15 Loss: 0.00043836 a:  0.28346, b:  0.50822\n",
            "Iter:  16 Loss: 0.00043716 a:  0.28395, b:  0.50796\n",
            "Iter:  17 Loss: 0.00043604 a:  0.28442, b:  0.50771\n",
            "Iter:  18 Loss: 0.00043501 a:  0.28487, b:  0.50747\n",
            "Iter:  19 Loss: 0.00043405 a:  0.28531, b:  0.50724\n",
            "Iter:  20 Loss: 0.00043315 a:  0.28573, b:  0.50701\n",
            "Iter:  21 Loss: 0.00043232 a:  0.28614, b:  0.50680\n",
            "Iter:  22 Loss: 0.00043155 a:  0.28653, b:  0.50659\n",
            "Iter:  23 Loss: 0.00043083 a:  0.28691, b:  0.50639\n",
            "Iter:  24 Loss: 0.00043016 a:  0.28727, b:  0.50620\n",
            "Iter:  25 Loss: 0.00042954 a:  0.28762, b:  0.50601\n",
            "Iter:  26 Loss: 0.00042897 a:  0.28796, b:  0.50583\n",
            "Iter:  27 Loss: 0.00042843 a:  0.28829, b:  0.50566\n",
            "Iter:  28 Loss: 0.00042794 a:  0.28860, b:  0.50549\n",
            "Iter:  29 Loss: 0.00042747 a:  0.28891, b:  0.50533\n",
            "Iter:  30 Loss: 0.00042705 a:  0.28920, b:  0.50518\n",
            "Iter:  31 Loss: 0.00042665 a:  0.28948, b:  0.50503\n",
            "Iter:  32 Loss: 0.00042628 a:  0.28975, b:  0.50488\n",
            "Iter:  33 Loss: 0.00042593 a:  0.29001, b:  0.50475\n",
            "Iter:  34 Loss: 0.00042561 a:  0.29026, b:  0.50461\n",
            "Iter:  35 Loss: 0.00042532 a:  0.29051, b:  0.50448\n",
            "Iter:  36 Loss: 0.00042504 a:  0.29074, b:  0.50436\n",
            "Iter:  37 Loss: 0.00042478 a:  0.29097, b:  0.50424\n",
            "Iter:  38 Loss: 0.00042454 a:  0.29118, b:  0.50412\n",
            "Iter:  39 Loss: 0.00042432 a:  0.29139, b:  0.50401\n",
            "TIME:  0.008526325225830078\n"
          ],
          "name": "stdout"
        }
      ]
    },
    {
      "cell_type": "code",
      "metadata": {
        "id": "pdR0279A7stZ",
        "colab": {
          "base_uri": "https://localhost:8080/",
          "height": 282
        },
        "outputId": "79d4f39f-bf82-4294-9eb0-5d685401724d"
      },
      "source": [
        "plt.plot(losses)"
      ],
      "execution_count": null,
      "outputs": [
        {
          "output_type": "execute_result",
          "data": {
            "text/plain": [
              "[<matplotlib.lines.Line2D at 0x7fd244fb4e90>]"
            ]
          },
          "metadata": {
            "tags": []
          },
          "execution_count": 9
        },
        {
          "output_type": "display_data",
          "data": {
            "image/png": "[encoded data removed]",
            "text/plain": [
              "<Figure size 432x288 with 1 Axes>"
            ]
          },
          "metadata": {
            "tags": [],
            "needs_background": "light"
          }
        }
      ]
    },
    {
      "cell_type": "markdown",
      "metadata": {
        "id": "J7c_9F8u7stc"
      },
      "source": [
        "Let's now visually asses how we do on training data"
      ]
    },
    {
      "cell_type": "code",
      "metadata": {
        "id": "GH34w_867std",
        "colab": {
          "base_uri": "https://localhost:8080/",
          "height": 646
        },
        "outputId": "30012a13-2bd6-4264-893f-da1b331d37f8"
      },
      "source": [
        "fig = plt.figure(figsize=(11, 11))\n",
        "plt.scatter(xs, ys)\n",
        "plt.plot(xs, predict(a, b), c='g')\n",
        "plt.plot(xs, X @ theta , c='y')\n",
        "plt.show()"
      ],
      "execution_count": null,
      "outputs": [
        {
          "output_type": "display_data",
          "data": {
            "image/png": "[encoded data removed]",
            "text/plain": [
              "<Figure size 792x792 with 1 Axes>"
            ]
          },
          "metadata": {
            "tags": [],
            "needs_background": "light"
          }
        }
      ]
    },
    {
      "cell_type": "code",
      "metadata": {
        "id": "C1ZfnCzB7stf",
        "colab": {
          "base_uri": "https://localhost:8080/",
          "height": 646
        },
        "outputId": "821ddf04-68ed-46a1-d850-61d58f9ea0a1"
      },
      "source": [
        "fig = plt.figure(figsize=(11, 11))\n",
        "plt.scatter(xs, ys)\n",
        "plt.plot(xs, predict(a, b), c='g')\n",
        "plt.plot(xs, X @ theta , c='y')\n",
        "\n",
        "plt.plot(xs, ts, c='r')\n",
        "\n",
        "plt.show()"
      ],
      "execution_count": null,
      "outputs": [
        {
          "output_type": "display_data",
          "data": {
            "image/png": "[encoded data removed]",
            "text/plain": [
              "<Figure size 792x792 with 1 Axes>"
            ]
          },
          "metadata": {
            "tags": [],
            "needs_background": "light"
          }
        }
      ]
    },
    {
      "cell_type": "markdown",
      "metadata": {
        "id": "dlW25Mnq7sth"
      },
      "source": [
        "Let's check our implementation vs. the one in sklearn"
      ]
    },
    {
      "cell_type": "code",
      "metadata": {
        "id": "0r6GSafQ7sti",
        "colab": {
          "base_uri": "https://localhost:8080/"
        },
        "outputId": "37382d18-173f-48e6-fa1a-eabc53e72a8b"
      },
      "source": [
        "from sklearn.linear_model import LinearRegression\n",
        "import numpy as np\n",
        "\n",
        "X = np.array(xs).reshape((len(xs), 1))\n",
        "regr = LinearRegression()\n",
        "regr.fit(X, ys) # traini\n",
        "\n",
        "sk_a = float(regr.coef_)\n",
        "sk_b = regr.intercept_\n",
        "sk_loss = l2_loss(ys, regr.predict(X))\n",
        "\n",
        "print('Loss: {:8.8f} a: {:8.5f}, b: {:8.5f}'.format(sk_loss, sk_a, sk_b))"
      ],
      "execution_count": null,
      "outputs": [
        {
          "output_type": "stream",
          "text": [
            "Loss: 0.00042142 a:  0.29700, b:  0.50104\n"
          ],
          "name": "stdout"
        }
      ]
    },
    {
      "cell_type": "code",
      "metadata": {
        "id": "ebBxXRDb9ie7"
      },
      "source": [
        ""
      ],
      "execution_count": null,
      "outputs": []
    }
  ]
}