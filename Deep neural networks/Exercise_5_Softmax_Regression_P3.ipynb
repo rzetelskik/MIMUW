{
  "nbformat": 4,
  "nbformat_minor": 0,
  "metadata": {
    "colab": {
      "name": "Exercise_5_Softmax_Regression_P3.ipynb",
      "provenance": [],
      "collapsed_sections": []
    },
    "kernelspec": {
      "name": "python3",
      "display_name": "Python 3"
    }
  },
  "cells": [
    {
      "cell_type": "markdown",
      "metadata": {
        "id": "H_xdi0AUN81t"
      },
      "source": [
        "# Softmax regression\n",
        "\n",
        "In this exercise you will train a softmax regression model to recognize handwritten digits.\n",
        "  \n",
        "The general setup is as follows:\n",
        "* we are given a set of pairs $(x, y)$, where $x \\in R^D$ is a vector of real numbers representing the features, and $y \\in \\{1,...,c\\}$ is the target (in our case we have ten classes, so $c=10$),\n",
        "* for a given $x$ we model the probability of $y=j$ by $$h(x)_j=p_j = \\frac{e^{w_j^Tx}}{\\sum_{i=1}^c e^{w_i^Tx}},$$\n",
        "* to find the right $w$ we will optimize the so called multiclass log loss:\n",
        "$$L(y,p) = \\log{p_y},$$\n",
        "$$J(w) = -\\frac{1}{n}\\sum_{i=1}^n L(y_i,h(x)),$$\n",
        "* with the loss function in hand we can improve our guesses iteratively:\n",
        "    * $w_{ij}^{t+1} = w_{ij}^t - \\text{step_size} \\cdot \\frac{\\partial J(w)}{\\partial w_{ij}}$,\n",
        "* we can end the process after some predefined number of epochs (or when the changes are no longer meaningful)."
      ]
    },
    {
      "cell_type": "markdown",
      "metadata": {
        "id": "P3yuYp69N810"
      },
      "source": [
        "Let's start with importing the MNIST dataset."
      ]
    },
    {
      "cell_type": "code",
      "metadata": {
        "id": "0ZOx1cckN814",
        "colab": {
          "base_uri": "https://localhost:8080/"
        },
        "outputId": "9a5a0600-4ffb-49cf-a9a3-f961cf18a2ad"
      },
      "source": [
        "!wget -O mnist.npz https://s3.amazonaws.com/img-datasets/mnist.npz"
      ],
      "execution_count": 1,
      "outputs": [
        {
          "output_type": "stream",
          "text": [
            "--2021-03-26 16:48:16--  https://s3.amazonaws.com/img-datasets/mnist.npz\n",
            "Resolving s3.amazonaws.com (s3.amazonaws.com)... 52.216.112.237\n",
            "Connecting to s3.amazonaws.com (s3.amazonaws.com)|52.216.112.237|:443... connected.\n",
            "HTTP request sent, awaiting response... 200 OK\n",
            "Length: 11490434 (11M) [application/octet-stream]\n",
            "Saving to: ‘mnist.npz’\n",
            "\n",
            "mnist.npz           100%[===================>]  10.96M  11.7MB/s    in 0.9s    \n",
            "\n",
            "2021-03-26 16:48:18 (11.7 MB/s) - ‘mnist.npz’ saved [11490434/11490434]\n",
            "\n"
          ],
          "name": "stdout"
        }
      ]
    },
    {
      "cell_type": "code",
      "metadata": {
        "id": "cfggfnt5N82K"
      },
      "source": [
        "%matplotlib inline\n",
        "\n",
        "import matplotlib.pyplot as plt\n",
        "import numpy as np\n",
        "import pandas as pd\n",
        "import seaborn as sns\n",
        "\n",
        "def load_mnist(path='mnist.npz'):\n",
        "    with np.load(path) as f:\n",
        "        x_train, _y_train = f['x_train'], f['y_train']\n",
        "        x_test, _y_test = f['x_test'], f['y_test']\n",
        "        \n",
        "    x_train = x_train.reshape(-1, 28 * 28) / 255.\n",
        "    x_test = x_test.reshape(-1, 28 * 28) / 255.\n",
        "    \n",
        "    y_train = np.zeros((_y_train.shape[0], 10))\n",
        "    y_train[np.arange(_y_train.shape[0]), _y_train] = 1\n",
        "    \n",
        "    y_test = np.zeros((_y_test.shape[0], 10))\n",
        "    y_test[np.arange(_y_test.shape[0]), _y_test] = 1\n",
        "\n",
        "    return (x_train, y_train), (x_test, y_test)\n",
        "\n",
        "(x_train, y_train), (x_test, y_test) = load_mnist()"
      ],
      "execution_count": 2,
      "outputs": []
    },
    {
      "cell_type": "markdown",
      "metadata": {
        "id": "zjFxWDLnN82X"
      },
      "source": [
        "Let's take a look at the data. In the \"x\" arrays you'll find the images (encoded as pixel intensities) and in the \"y\" ones you'll find the labels (one-hot encoded)."
      ]
    },
    {
      "cell_type": "code",
      "metadata": {
        "id": "sxPEnhO_N82d",
        "colab": {
          "base_uri": "https://localhost:8080/"
        },
        "outputId": "9729bdfc-edb9-424b-f680-10dcfe6075bf"
      },
      "source": [
        "print(x_train.shape)\n",
        "print(y_train.shape)\n",
        "\n",
        "print(x_train[:10])\n",
        "print(y_train[:10])"
      ],
      "execution_count": 3,
      "outputs": [
        {
          "output_type": "stream",
          "text": [
            "(60000, 784)\n",
            "(60000, 10)\n",
            "[[0. 0. 0. ... 0. 0. 0.]\n",
            " [0. 0. 0. ... 0. 0. 0.]\n",
            " [0. 0. 0. ... 0. 0. 0.]\n",
            " ...\n",
            " [0. 0. 0. ... 0. 0. 0.]\n",
            " [0. 0. 0. ... 0. 0. 0.]\n",
            " [0. 0. 0. ... 0. 0. 0.]]\n",
            "[[0. 0. 0. 0. 0. 1. 0. 0. 0. 0.]\n",
            " [1. 0. 0. 0. 0. 0. 0. 0. 0. 0.]\n",
            " [0. 0. 0. 0. 1. 0. 0. 0. 0. 0.]\n",
            " [0. 1. 0. 0. 0. 0. 0. 0. 0. 0.]\n",
            " [0. 0. 0. 0. 0. 0. 0. 0. 0. 1.]\n",
            " [0. 0. 1. 0. 0. 0. 0. 0. 0. 0.]\n",
            " [0. 1. 0. 0. 0. 0. 0. 0. 0. 0.]\n",
            " [0. 0. 0. 1. 0. 0. 0. 0. 0. 0.]\n",
            " [0. 1. 0. 0. 0. 0. 0. 0. 0. 0.]\n",
            " [0. 0. 0. 0. 1. 0. 0. 0. 0. 0.]]\n"
          ],
          "name": "stdout"
        }
      ]
    },
    {
      "cell_type": "markdown",
      "metadata": {
        "id": "yATia4LaN82n"
      },
      "source": [
        "Now let us see the data in a more human way."
      ]
    },
    {
      "cell_type": "code",
      "metadata": {
        "id": "LXk-h0YuN82q",
        "colab": {
          "base_uri": "https://localhost:8080/",
          "height": 66
        },
        "outputId": "6ff9503d-3b41-4700-8c74-ad9b022f6852"
      },
      "source": [
        "num_samples = 20\n",
        "samples = range(num_samples)\n",
        "fig, subplots = plt.subplots(1, num_samples)\n",
        "fig.set_size_inches(15, 15)\n",
        "\n",
        "for i, s in enumerate(subplots.flatten()):\n",
        "    s.imshow(np.reshape(x_train[i, :], [28, 28]), cmap='gray')\n",
        "    s.axis('off')"
      ],
      "execution_count": 4,
      "outputs": [
        {
          "output_type": "display_data",
          "data": {
            "image/png": "[encoded data removed]",
            "text/plain": [
              "<Figure size 1080x1080 with 20 Axes>"
            ]
          },
          "metadata": {
            "tags": [],
            "needs_background": "light"
          }
        }
      ]
    },
    {
      "cell_type": "markdown",
      "metadata": {
        "id": "hgFd3QrRN82w"
      },
      "source": [
        "Next, we prepare $X$ and $y$ variables"
      ]
    },
    {
      "cell_type": "code",
      "metadata": {
        "id": "iQKol9KmN82z",
        "colab": {
          "base_uri": "https://localhost:8080/"
        },
        "outputId": "2cef8c52-7b96-4442-edba-f3350649031a"
      },
      "source": [
        "X = x_train[:4000]\n",
        "y = y_train[:4000]\n",
        "\n",
        "print(X.shape)\n",
        "print(y.shape)"
      ],
      "execution_count": 5,
      "outputs": [
        {
          "output_type": "stream",
          "text": [
            "(4000, 784)\n",
            "(4000, 10)\n"
          ],
          "name": "stdout"
        }
      ]
    },
    {
      "cell_type": "markdown",
      "metadata": {
        "id": "JpAv_SngN83A"
      },
      "source": [
        "To train the model we will (obviously) use gradient descent. Inside the loop we need a method to compute the gradients. Let's start with implementing it, together with some helper functions."
      ]
    },
    {
      "cell_type": "code",
      "metadata": {
        "id": "pUCxU7qEN83D"
      },
      "source": [
        "# We will store the weights in a D x c matrix, where D is the number of features, and c is the number of classes\n",
        "#weights = (...) # TODO: Fill in, be sure to have the right shape!\n",
        "weights = np.zeros([X.shape[1], 10])\n",
        "\n",
        "\n",
        "def softmax(z):\n",
        "    return np.exp(z)/np.sum(np.exp(z))\n",
        "\n",
        "def predict(weights, X):\n",
        "    return np.array(list(map(softmax, np.dot(X, weights))))\n",
        "\n",
        "def compute_loss_and_gradients(weights, X, y, l2_reg):\n",
        "    n = X.shape[0]\n",
        "    h = predict(weights, X)\n",
        "\n",
        "    loss = -np.sum(y * np.log(h))/n + l2_reg * np.sum(weights * weights)\n",
        "    grad = -np.dot(X.T, y - h)/n + l2_reg * weights\n",
        "    return loss, grad"
      ],
      "execution_count": 6,
      "outputs": []
    },
    {
      "cell_type": "markdown",
      "metadata": {
        "id": "E65eXzFVN83Q"
      },
      "source": [
        "We are now in position to complete the training pipeline.\n",
        "\n",
        "If you have problems with convergence, be sure to check the gradients numerically."
      ]
    },
    {
      "cell_type": "code",
      "metadata": {
        "scrolled": false,
        "id": "SyqXq54QN83W",
        "colab": {
          "base_uri": "https://localhost:8080/",
          "height": 282
        },
        "outputId": "c333bd43-96ba-49a2-b4e9-c791ba931898"
      },
      "source": [
        "l2_reg = 0.15\n",
        "n_epochs = 250\n",
        "lr = 0.05\n",
        "\n",
        "losses = []\n",
        "for i in range(n_epochs):\n",
        "    loss, grad = compute_loss_and_gradients(weights, X, y, l2_reg)\n",
        "\n",
        "    # early stopping\n",
        "    if (loss > losses[-1] if len(losses) > 0 else False):\n",
        "      break\n",
        "\n",
        "    losses.append(loss)\n",
        "\n",
        "    \n",
        "    weights -= lr * grad\n",
        "\n",
        "plt.plot(losses)"
      ],
      "execution_count": 7,
      "outputs": [
        {
          "output_type": "execute_result",
          "data": {
            "text/plain": [
              "[<matplotlib.lines.Line2D at 0x7fd0b555d910>]"
            ]
          },
          "metadata": {
            "tags": []
          },
          "execution_count": 7
        },
        {
          "output_type": "display_data",
          "data": {
            "image/png": "[encoded data removed]",
            "text/plain": [
              "<Figure size 432x288 with 1 Axes>"
            ]
          },
          "metadata": {
            "tags": [],
            "needs_background": "light"
          }
        }
      ]
    },
    {
      "cell_type": "markdown",
      "metadata": {
        "id": "GZ5RVGfaN83j"
      },
      "source": [
        "Now compute your accuracy on the training and test sets."
      ]
    },
    {
      "cell_type": "code",
      "metadata": {
        "id": "WkPf223hN83q",
        "colab": {
          "base_uri": "https://localhost:8080/"
        },
        "outputId": "1562ad6c-2b10-415d-a1cb-204379a38179"
      },
      "source": [
        "def accuracy(p, y):\n",
        "  return 100*np.count_nonzero(np.argmax(p, axis=1) == np.argmax(y, axis=1))/y.shape[0]\n",
        "\n",
        "print(\"Accuracy on training set: \", accuracy(predict(weights, x_train), y_train))\n",
        "print(\"Accuracy on test set: \", accuracy(predict(weights, x_test), y_test))"
      ],
      "execution_count": 8,
      "outputs": [
        {
          "output_type": "stream",
          "text": [
            "Accuracy on training set:  81.01666666666667\n",
            "Accuracy on test set:  81.53\n"
          ],
          "name": "stdout"
        }
      ]
    },
    {
      "cell_type": "markdown",
      "metadata": {
        "id": "rqcHaryrN83v"
      },
      "source": [
        "We can also visualize the weights learned by our algorithm. Try to anticipate the result before executing the cell below."
      ]
    },
    {
      "cell_type": "code",
      "metadata": {
        "id": "DC30gyHHN83y",
        "colab": {
          "base_uri": "https://localhost:8080/",
          "height": 102
        },
        "outputId": "e9a3129d-e07e-4505-8b11-364e73b73fe2"
      },
      "source": [
        "fig, subplots = plt.subplots(1, 10)\n",
        "fig.set_size_inches(15, 15)\n",
        "\n",
        "for i, s in enumerate(subplots.flatten()):\n",
        "    s.imshow(np.reshape(np.array(weights[:, i]), [28, 28]), cmap='gray')\n",
        "    s.axis('off')"
      ],
      "execution_count": 9,
      "outputs": [
        {
          "output_type": "display_data",
          "data": {
            "image/png": "[encoded data removed]",
            "text/plain": [
              "<Figure size 1080x1080 with 10 Axes>"
            ]
          },
          "metadata": {
            "tags": [],
            "needs_background": "light"
          }
        }
      ]
    },
    {
      "cell_type": "markdown",
      "metadata": {
        "collapsed": true,
        "id": "OsgljzA_N837"
      },
      "source": [
        "Note that we only used a small portion of the data to develop the model. Now, implement the training on full data. Also, validate your model properly and find a good value for `l2_reg` hyperparameter. Try to experiment with `batch_size`."
      ]
    },
    {
      "cell_type": "code",
      "metadata": {
        "id": "Tl8dXAPfN839"
      },
      "source": [
        "class MulticlassLogisticRegression():\n",
        "  def _softmax(self, z):\n",
        "    return np.exp(z)/np.sum(np.exp(z))\n",
        "  \n",
        "  def _h(self, X, theta):\n",
        "    return np.array(list(map(softmax, np.dot(X, theta))))\n",
        "\n",
        "  def fit(self, X, y, n_epochs=100, lr=0.05, l2_reg=0.15, early_stopping=True):\n",
        "    theta = np.zeros([X.shape[1], y.shape[1]])\n",
        "    n = X.shape[0]\n",
        "\n",
        "    losses = []\n",
        "\n",
        "    for i in range(n_epochs):\n",
        "      theta = theta - lr*(-1./n*np.dot(X.T, y - self._h(X, theta)) + l2_reg * theta)\n",
        "      losses.append(-np.sum(y * np.log(self._h(X, theta)))/n + l2_reg * np.sum(theta * theta))\n",
        "\n",
        "      if early_stopping and len(losses) > 1 and losses[-2] < losses[-1]:\n",
        "        break\n",
        "\n",
        "    self._theta = theta\n",
        "    return losses\n",
        "\n",
        "  def predict(self, X):\n",
        "    return self._h(X, self._theta)"
      ],
      "execution_count": 18,
      "outputs": []
    },
    {
      "cell_type": "code",
      "metadata": {
        "colab": {
          "base_uri": "https://localhost:8080/"
        },
        "id": "mNz2ukqgh-Sd",
        "outputId": "033e91e3-dc1c-4a8f-8bff-ff6ddcb3ee94"
      },
      "source": [
        "reg = MulticlassLogisticRegression()\n",
        "reg.fit(X, y)"
      ],
      "execution_count": 19,
      "outputs": [
        {
          "output_type": "execute_result",
          "data": {
            "text/plain": [
              "[2.2480392229932438,\n",
              " 2.1970437361728887,\n",
              " 2.1492376265438513,\n",
              " 2.1043555763574693,\n",
              " 2.0621898171063062,\n",
              " 2.0225682030020957,\n",
              " 1.9853413316107902,\n",
              " 1.950374893900618,\n",
              " 1.9175451162285522,\n",
              " 1.8867360530770232,\n",
              " 1.8578379915217396,\n",
              " 1.8307465205967803,\n",
              " 1.8053619933778433,\n",
              " 1.7815892158341338,\n",
              " 1.7593372617314278,\n",
              " 1.7385193530759726,\n",
              " 1.7190527703646072,\n",
              " 1.7008587721271637,\n",
              " 1.6838625125485718,\n",
              " 1.6679929515964182,\n",
              " 1.6531827554540834,\n",
              " 1.6393681870352315,\n",
              " 1.6264889874668327,\n",
              " 1.614488250005078,\n",
              " 1.603312288096387,\n",
              " 1.592910499342139,\n",
              " 1.5832352270516996,\n",
              " 1.5742416209254317,\n",
              " 1.5658874982311017,\n",
              " 1.5581332066450668,\n",
              " 1.550941489737794,\n",
              " 1.5442773559004566,\n",
              " 1.5381079513407887,\n",
              " 1.5324024376248757,\n",
              " 1.527131874108247,\n",
              " 1.5222691054844801,\n",
              " 1.5177886545817563,\n",
              " 1.5136666204561537,\n",
              " 1.5098805817634777,\n",
              " 1.5064095053373985,\n",
              " 1.5032336598590692,\n",
              " 1.5003345344706007,\n",
              " 1.4976947621603278,\n",
              " 1.4952980477304258,\n",
              " 1.4931291001458806,\n",
              " 1.4911735690570853,\n",
              " 1.4894179852854865,\n",
              " 1.487849705061984,\n",
              " 1.486456857810517,\n",
              " 1.4852282972738782,\n",
              " 1.4841535557848615,\n",
              " 1.4832228014929272,\n",
              " 1.482426798364383,\n",
              " 1.4817568687823632,\n",
              " 1.4812048585814173,\n",
              " 1.480763104360158,\n",
              " 1.480424402924015,\n",
              " 1.480181982718592,\n",
              " 1.480029477122381,\n",
              " 1.4799608994755638,\n",
              " 1.4799706197293028]"
            ]
          },
          "metadata": {
            "tags": []
          },
          "execution_count": 19
        }
      ]
    },
    {
      "cell_type": "code",
      "metadata": {
        "colab": {
          "base_uri": "https://localhost:8080/"
        },
        "id": "zK47YsEAlvQc",
        "outputId": "20eb5804-48d7-4b76-ef9b-c058f0073845"
      },
      "source": [
        "p = reg.predict(x_test)\n",
        "print(accuracy(p, y_test))\n",
        "\n",
        "# TODO cross validation + batch sizes(?)"
      ],
      "execution_count": 20,
      "outputs": [
        {
          "output_type": "stream",
          "text": [
            "81.53\n"
          ],
          "name": "stdout"
        }
      ]
    },
    {
      "cell_type": "code",
      "metadata": {
        "id": "9OSuZiielwR6"
      },
      "source": [
        ""
      ],
      "execution_count": 12,
      "outputs": []
    }
  ]
}