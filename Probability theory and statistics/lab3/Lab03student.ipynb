{
 "cells": [
  {
   "cell_type": "markdown",
   "metadata": {},
   "source": [
    "# Mean and standard deviation"
   ]
  },
  {
   "cell_type": "markdown",
   "metadata": {},
   "source": [
    "**Problem 3a.** In this problem we look at the mean and the standard deviation from a more statistical point of view.\n",
    " * Generate $N=1\\,000$ values $x_1,\\ldots,x_n$ from Poisson($\\lambda$) distribution for $\\lambda=10$. You might want to use the function **poisson(lambda,shape)** from package **numpy.random**.\n",
    " * Plot a histogram of these values. What is the mean of Poisson($\\lambda$)? What is the standard deviation? Are these values a good description of what you see in the histogram?\n",
    " * For $i \\in \\{1,\\ldots,n\\}$ compute $\\bar{x}_i = \\frac{x_1+\\ldots+x_i}{i}$. Plot the values of $\\bar{x}_i$.\n",
    " * On the same figure, plot a horizontal line corresponding to the expected value ($\\lambda$) of all those averages.\n",
    " * Compute (analitically) the standard deviation $\\sigma_i$ of the $i$-th average and plot lines $\\lambda \\pm \\sigma_i$, again on the same figure.\n",
    " * Does the standard deviation accurately describe the *typical* deviations?"
   ]
  },
  {
   "cell_type": "code",
   "execution_count": 1,
   "metadata": {},
   "outputs": [
    {
     "data": {
      "text/plain": [
       "<Figure size 640x480 with 1 Axes>"
      ]
     },
     "metadata": {},
     "output_type": "display_data"
    },
    {
     "name": "stdout",
     "output_type": "stream",
     "text": [
      "mean is 9.841, standard deviation is 3.2890301002\n"
     ]
    }
   ],
   "source": [
    "import random\n",
    "import numpy as np\n",
    "import matplotlib.pyplot as plt\n",
    "\n",
    "n = 1000\n",
    "lmbd = 10\n",
    "\n",
    "p = np.random.poisson(lmbd, n)\n",
    "\n",
    "plt.hist(p, bins=range(min(p), max(p) + 1, 1))\n",
    "plt.show()\n",
    "\n",
    "mean = np.mean(p)\n",
    "std = np.std(p)\n",
    "print(\"mean is {}, standard deviation is {}\".format(mean, std))\n",
    "\n"
   ]
  },
  {
   "cell_type": "code",
   "execution_count": 2,
   "metadata": {},
   "outputs": [
    {
     "data": {
      "image/png": "[encoded data removed]",
      "text/plain": [
       "<Figure size 432x288 with 1 Axes>"
      ]
     },
     "metadata": {
      "needs_background": "light"
     },
     "output_type": "display_data"
    }
   ],
   "source": [
    "lmbd_sqrt = np.sqrt(lmbd)\n",
    "i = np.arange(1, n + 1, 1, dtype='f')\n",
    "\n",
    "x_dash = np.cumsum(p) / (i + 1)\n",
    "std_dash = np.full_like(i, lmbd_sqrt) / (i + 1)\n",
    "    \n",
    "plt.plot(x_dash)\n",
    "plt.axhline(y=lmbd, color='red')\n",
    "plt.plot(map(lambda x: lmbd + x, std_dash))\n",
    "plt.plot(map(lambda x: lmbd - x, std_dash))\n",
    "\n",
    "\n",
    "plt.show()"
   ]
  },
  {
   "cell_type": "markdown",
   "metadata": {},
   "source": [
    "**Problem 3b.** In this task we consider a discrete distribution *without a mean* and verify whether we can still estimate the location of its peak by simply computing averages. Consider a discrete variable $X$ with the following distribution: $P(X=k) = \\frac{1}{4|k|(|k|+1)}$ for $k \\neq 0$ and $P(X=0) = \\frac{1}{2}$. \n",
    " * Argue that these formulas indeed describe a discrete distribution.\n",
    " * Show that $X$ does not have a mean.\n",
    " * Plot the function $f(k) = P(X=k)$ for $k \\in [-10,10]$.\n",
    " * Write a function that samples from $X$'s distribution (imaginary bonus points if it is vectorized).\n",
    " * Generate $N=10\\,000$ values $x_1,\\ldots,x_n$ from the distribution.\n",
    " * For $i \\in \\{1,\\ldots,n\\}$ compute $\\bar{x}_i = \\frac{x_1+\\ldots+x_i}{i}$. \n",
    " * Plot the values of $\\bar{x}_i$. Does it look like the series converges? If it is not clear, you can compute several independent\n",
    "   $N$-means and plot a histogram, then increase $N$ significantly and see how it changes.\n",
    " * For $i \\in \\{1,\\ldots,n\\}$ compute $\\hat{x}_i = \\textrm{ median of }\\{x_1,\\ldots,x_i\\}$. \n",
    "   You do not need to do it in a clever way (like in ASD lab).\n",
    " * Plot the values of $\\hat{x}_i$. Does it look like the series converges? \n",
    " * A more interesting situation would be the one where you a given a distribution like $X+c$ for unknown $c$, and \n",
    "   want to figure out what $c$ is, i.e. find the center of the distribution. Both methods above attempt to\n",
    "   locate the center - which works better?"
   ]
  },
  {
   "cell_type": "code",
   "execution_count": null,
   "metadata": {},
   "outputs": [],
   "source": []
  },
  {
   "cell_type": "markdown",
   "metadata": {},
   "source": [
    "**Problem 3c.** We are now going to investigate an intermediate case - a variable with a finite mean, but no variance. Consider a discrete variable $Y$ with the following distribution: $P(Y=k) = \\frac{1}{|k|(|k|+1)(|k|+2)}$ for $k \\neq 0$ and $P(Y=0) = \\frac{1}{2}$. \n",
    " * Argue that these formulas indeed describe a discrete distribution.\n",
    " * Show that $EY=0$, but $Y$ has no variation (i.e. the defining series is not absolutely convergent).\n",
    " * Plot the function $f(k) = P(Y=k)$ for $k \\in [-10,10]$.\n",
    " * Write a function that samples from $Y$'s distribution.\n",
    " * Generate $N=10\\,000$ values $y_1,\\ldots,y_n$ from the distribution.\n",
    " * For $i \\in \\{1,\\ldots,n\\}$ compute $\\bar{y}_i = \\frac{y_1+\\ldots+y_i}{i}$. \n",
    " * Plot the values of $\\bar{y}_i$. Does it look like the series converges?\n",
    " * For $i \\in \\{1,\\ldots,n\\}$ compute $\\hat{y}_i = \\textrm{ median of }\\{y_1,\\ldots,y_i\\}$.\n",
    " * Plot the values of $\\hat{y}_i$.\n",
    " * Discuss the results obtained."
   ]
  },
  {
   "cell_type": "code",
   "execution_count": 3,
   "metadata": {},
   "outputs": [
    {
     "data": {
      "text/plain": [
       "[<matplotlib.lines.Line2D at 0x7f2d0f788dd0>]"
      ]
     },
     "execution_count": 3,
     "metadata": {},
     "output_type": "execute_result"
    },
    {
     "data": {
      "image/png": "[encoded data removed]",
      "text/plain": [
       "<Figure size 432x288 with 1 Axes>"
      ]
     },
     "metadata": {
      "needs_background": "light"
     },
     "output_type": "display_data"
    }
   ],
   "source": [
    "f = np.vectorize(lambda k: 0.5 if k == 0 else float(1)/(np.absolute(k)*(np.absolute(k) + 1)*(np.absolute(k) + 2)))\n",
    "\n",
    "n = np.arange(-10, 11, 1)\n",
    "plt.plot(n, f(n))\n"
   ]
  },
  {
   "cell_type": "code",
   "execution_count": 4,
   "metadata": {},
   "outputs": [],
   "source": [
    "def sample():\n",
    "    choice = np.random.choice(a=[-1, 0, 1], p=[0.25, 0.5, 0.25])\n",
    "    if (choice == 0):\n",
    "        return 0\n",
    "    \n",
    "    x = np.random.uniform(0, 1)\n",
    "    a = 2 / x\n",
    "    k = np.floor(np.sqrt(a)) - 2\n",
    "        \n",
    "    while ((k + 1)*(k + 2) < a):\n",
    "        k += 1\n",
    "    res = k\n",
    "        \n",
    "    return choice * int(res)"
   ]
  },
  {
   "cell_type": "code",
   "execution_count": 5,
   "metadata": {},
   "outputs": [
    {
     "data": {
      "text/plain": [
       "Counter({-52: 1,\n",
       "         -37: 1,\n",
       "         -31: 1,\n",
       "         -30: 2,\n",
       "         -29: 1,\n",
       "         -28: 1,\n",
       "         -26: 1,\n",
       "         -25: 1,\n",
       "         -23: 1,\n",
       "         -21: 1,\n",
       "         -19: 2,\n",
       "         -18: 2,\n",
       "         -17: 4,\n",
       "         -16: 4,\n",
       "         -15: 4,\n",
       "         -13: 1,\n",
       "         -12: 5,\n",
       "         -11: 5,\n",
       "         -10: 9,\n",
       "         -9: 10,\n",
       "         -8: 16,\n",
       "         -7: 19,\n",
       "         -6: 47,\n",
       "         -5: 54,\n",
       "         -4: 81,\n",
       "         -3: 167,\n",
       "         -2: 387,\n",
       "         -1: 1744,\n",
       "         0: 4911,\n",
       "         1: 1669,\n",
       "         2: 395,\n",
       "         3: 179,\n",
       "         4: 86,\n",
       "         5: 58,\n",
       "         6: 31,\n",
       "         7: 25,\n",
       "         8: 14,\n",
       "         9: 16,\n",
       "         10: 8,\n",
       "         11: 4,\n",
       "         12: 2,\n",
       "         13: 2,\n",
       "         15: 5,\n",
       "         16: 3,\n",
       "         17: 1,\n",
       "         18: 4,\n",
       "         19: 3,\n",
       "         21: 1,\n",
       "         23: 1,\n",
       "         24: 1,\n",
       "         25: 1,\n",
       "         28: 2,\n",
       "         30: 1,\n",
       "         36: 1,\n",
       "         41: 1,\n",
       "         55: 1,\n",
       "         60: 1,\n",
       "         78: 1})"
      ]
     },
     "execution_count": 5,
     "metadata": {},
     "output_type": "execute_result"
    },
    {
     "data": {
      "image/png": "[encoded data removed]",
      "text/plain": [
       "<Figure size 432x288 with 1 Axes>"
      ]
     },
     "metadata": {
      "needs_background": "light"
     },
     "output_type": "display_data"
    }
   ],
   "source": [
    "N = 10**4\n",
    "n = np.arange(1, N + 1, 1)\n",
    "\n",
    "f = np.vectorize(lambda x: sample())\n",
    "y = f(n)\n",
    "\n",
    "plt.hist(y, bins=range(-10, 10))\n",
    "import collections\n",
    "collections.Counter(y)"
   ]
  },
  {
   "cell_type": "code",
   "execution_count": 6,
   "metadata": {},
   "outputs": [
    {
     "data": {
      "text/plain": [
       "[<matplotlib.lines.Line2D at 0x7f2d0f645110>]"
      ]
     },
     "execution_count": 6,
     "metadata": {},
     "output_type": "execute_result"
    },
    {
     "data": {
      "image/png": "[encoded data removed]",
      "text/plain": [
       "<Figure size 432x288 with 1 Axes>"
      ]
     },
     "metadata": {
      "needs_background": "light"
     },
     "output_type": "display_data"
    }
   ],
   "source": [
    "y_dash = np.cumsum(y) / np.arange(1, N + 1, 1, dtype='f')\n",
    "plt.plot(n, y_dash)"
   ]
  },
  {
   "cell_type": "code",
   "execution_count": 7,
   "metadata": {},
   "outputs": [
    {
     "data": {
      "text/plain": [
       "[<matplotlib.lines.Line2D at 0x7f2d0f5e5e90>]"
      ]
     },
     "execution_count": 7,
     "metadata": {},
     "output_type": "execute_result"
    },
    {
     "data": {
      "image/png": "[encoded data removed]",
      "text/plain": [
       "<Figure size 432x288 with 1 Axes>"
      ]
     },
     "metadata": {
      "needs_background": "light"
     },
     "output_type": "display_data"
    }
   ],
   "source": [
    "y_median = [np.median(y[:i]) for i in n]\n",
    "plt.plot(n, y_median)"
   ]
  },
  {
   "cell_type": "code",
   "execution_count": null,
   "metadata": {},
   "outputs": [],
   "source": []
  }
 ],
 "metadata": {
  "kernelspec": {
   "display_name": "Python 2",
   "language": "python",
   "name": "python2"
  },
  "language_info": {
   "codemirror_mode": {
    "name": "ipython",
    "version": 2
   },
   "file_extension": ".py",
   "mimetype": "text/x-python",
   "name": "python",
   "nbconvert_exporter": "python",
   "pygments_lexer": "ipython2",
   "version": "2.7.17"
  }
 },
 "nbformat": 4,
 "nbformat_minor": 1
}
