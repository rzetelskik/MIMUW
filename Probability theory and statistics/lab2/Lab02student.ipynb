{
 "cells": [
  {
   "cell_type": "markdown",
   "metadata": {},
   "source": [
    "# Discrete sampling\n",
    "In the last problem of the first session we sampled with given probabilities using prefix sums and binary search. The sampling code is the bottleneck of the whole process, its running times is 3 times higher than the code for uniform probabilities, and the difference would only increase for larger number of outcomes. In the next two problems we discuss two simple, but powerful techniques one can use to sample in time $O(1)$."
   ]
  },
  {
   "cell_type": "markdown",
   "metadata": {},
   "source": [
    "**Problem 2a.** Consider the problem of sampling with known probabilities $p_1,\\ldots,p_d$. Suppose that you have a black-box that samples with probabilities $q_1,\\ldots,q_d$ that are close to $p_1,\\ldots,p_d$, say\n",
    "$$ \\forall_{i=1,\\ldots,n} p_i \\le (1+\\varepsilon)q_i.$$\n",
    "\n",
    "* How can you use this black-box to sample with probabilities $p_1,\\ldots,p_d$? It is expected, that the running time of the algorithm would be non-deterministic.\n",
    "* Prove that your algorithm is correct.\n",
    "* Implement the algorithm and use it to give a faster implementation for **Problem 1c**."
   ]
  },
  {
   "cell_type": "code",
   "execution_count": 1,
   "metadata": {},
   "outputs": [
    {
     "data": {
      "text/plain": [
       "<Figure size 640x480 with 1 Axes>"
      ]
     },
     "metadata": {},
     "output_type": "display_data"
    },
    {
     "name": "stdout",
     "output_type": "stream",
     "text": [
      "4.18873405457\n"
     ]
    }
   ],
   "source": [
    "from __future__ import division\n",
    "import matplotlib.pyplot as plt\n",
    "import random\n",
    "import numpy as np\n",
    "import time \n",
    "\n",
    "file = np.loadtxt('us_births_69_88.csv', skiprows=1, delimiter=',', dtype=int)\n",
    "\n",
    "\n",
    "birth_data = np.array(file[:,2])\n",
    "days_len = len(birth_data)\n",
    "\n",
    "probs = birth_data/np.sum(birth_data)\n",
    "\n",
    "max_prob = np.amax(probs)\n",
    "min_prob = np.amin(probs)\n",
    "\n",
    "def sample():\n",
    "    while True:\n",
    "        pick = random.randint(1, days_len)\n",
    "        m = random.uniform(0, 1) * max_prob\n",
    "        if m < probs[pick - 1]:\n",
    "            return pick\n",
    "\n",
    "def find_first_duplicate():\n",
    "    date_set = set()\n",
    "    \n",
    "    rand = sample()\n",
    "    while rand not in date_set:\n",
    "        date_set.add(rand)\n",
    "        rand = sample()\n",
    "        \n",
    "    return len(date_set) + 1\n",
    "\n",
    "n = xrange(0, 10**5)\n",
    "\n",
    "time_begin = time.time()\n",
    "\n",
    "results = [find_first_duplicate() for i in n]\n",
    "\n",
    "time_stop = time.time()\n",
    "\n",
    "plt.hist(results, bins=range(min(results), max(results) + 1, 1))\n",
    "plt.show()\n",
    "\n",
    "print(str(time_stop - time_begin))"
   ]
  },
  {
   "cell_type": "markdown",
   "metadata": {},
   "source": [
    "**Problem 2b.** One of the reasons this implementation is not significantly faster than the one in **Problem 1c** , apart from $d$ being rather small, is that we are using Python's interpreter a bit too much, and Python is slow. One way around this is usually to use a library function - **searchsorted** is much faster than an equivalent code implemented in pure Python. But even if the functionality you need is not implemented in a lower level language as\n",
    "a library function, there is still hope. You can try to implement it using optimized array algebra, for example using **numpy**. In this problem, your task is to rewrite the previous algorithm, so that the amount of *looping* is reduced to a minimum necessary. In particular, you should create a *vectorized* version of random dates generation (in bulk), while the actual search for duplicates remains a loop with a **set**. Here are some useful tips:\n",
    "   * You can perform arithmetic, comparisons, etc. on **numpy** arrays.\n",
    "   * You can generate whole **numpy** arrays of random numbers at once.\n",
    "   * You can even perform parallel look-up like in the example below."
   ]
  },
  {
   "cell_type": "code",
   "execution_count": 2,
   "metadata": {},
   "outputs": [
    {
     "data": {
      "image/png": "[encoded data removed]",
      "text/plain": [
       "<Figure size 432x288 with 1 Axes>"
      ]
     },
     "metadata": {
      "needs_background": "light"
     },
     "output_type": "display_data"
    },
    {
     "name": "stdout",
     "output_type": "stream",
     "text": [
      "0.78769493103\n"
     ]
    }
   ],
   "source": [
    "iterations = 10**5\n",
    "gen = 80\n",
    "\n",
    "def lookup_repetition(arr, ret):\n",
    "    res = []\n",
    "    for i in xrange(0, len(arr)):\n",
    "        res.append(lookup_repetition_in_row(arr[i], ret[i]))\n",
    "    return res\n",
    "\n",
    "def lookup_repetition_in_row(row, ret_row):\n",
    "    date_set = set()\n",
    "    \n",
    "    for i in row[ret_row]:\n",
    "        if i not in date_set:\n",
    "            date_set.add(i)\n",
    "        else:\n",
    "            break\n",
    "    \n",
    "    return len(date_set) + 1\n",
    "\n",
    "time_begin = time.time()\n",
    "\n",
    "dates = np.random.randint(0, days_len, (iterations, gen))\n",
    "uni = np.random.uniform(0, 1, (iterations, gen)) * max_prob\n",
    "\n",
    "ret = uni < probs[dates]\n",
    "\n",
    "results = lookup_repetition(dates, ret)\n",
    "\n",
    "time_stop = time.time()\n",
    "\n",
    "plt.hist(results, bins=range(min(results), max(results) + 1, 1))\n",
    "plt.show()\n",
    "\n",
    "print(str(time_stop - time_begin))\n"
   ]
  },
  {
   "cell_type": "markdown",
   "metadata": {},
   "source": [
    "**Problem 2c (Squaring the histogram).** In this problem, we again want to sample with known probabilities $p_1,\\ldots,p_n$, but this time we make no assumptions on $p_i$. Consider the following algorithm:\n",
    "   * Let $V$ be the mean of $p_i$, i.e. $V=\\frac{1}{n}$.\n",
    "   * Create $n$ buckets, each with volume $V$, put each $p_i$ into a separate bucket.\n",
    "   * Until there exists a bucket $A$ that is not full, find a bucket $B$ that overflows, and trasfer probability from $B$ to $A$ until $A$ is exactly full\n",
    "\n",
    "Show that:\n",
    "   * This algorithm always ends.\n",
    "   * When it ends, each bucket contains pieces of exactly two $p_i$'s.\n",
    "\n",
    "How to use the result of this algorithm to sample with probabilities $p_i$. Argue that your algorithm is correct and implement it. The sampling part should be *vectorized*. Use this algorithm to sample birthdates again, and test its efficiency."
   ]
  },
  {
   "cell_type": "code",
   "execution_count": 3,
   "metadata": {},
   "outputs": [],
   "source": [
    "#using the \"Robin Hood\" algorithm, for reference see http://www.robertowor.com/csci4151/lecture3.htm\n",
    "def square(arr): \n",
    "    buckets = np.array(arr, dtype='f')\n",
    "    v = np.mean(arr)\n",
    "    \n",
    "    donors = np.arange(len(arr))\n",
    "    p = np.full_like(buckets, v)\n",
    "    \n",
    "    while np.any(buckets < v):\n",
    "        index_min = np.argmin(buckets)\n",
    "        index_max = np.argmax(buckets)\n",
    "        \n",
    "        p[index_min] = buckets[index_min]\n",
    "        donors[index_min] = index_max\n",
    "        \n",
    "        buckets[index_max] = buckets[index_max] - (v - buckets[index_min])\n",
    "        buckets[index_min] = v\n",
    "\n",
    "    return donors, p\n",
    "\n",
    "\n",
    "def lookup_repetition(arr):\n",
    "    result = []\n",
    "    \n",
    "    for i in arr:\n",
    "        result.append(lookup_repetition_in_row(i))\n",
    "        \n",
    "    return result\n",
    "\n",
    "def lookup_repetition_in_row(row):\n",
    "    date_set = set()\n",
    "    \n",
    "    for i in row:\n",
    "        if i not in date_set:\n",
    "            date_set.add(i)\n",
    "        else:\n",
    "            break\n",
    "    \n",
    "    return len(date_set) + 1"
   ]
  },
  {
   "cell_type": "code",
   "execution_count": 4,
   "metadata": {},
   "outputs": [
    {
     "data": {
      "image/png": "[encoded data removed]",
      "text/plain": [
       "<Figure size 432x288 with 1 Axes>"
      ]
     },
     "metadata": {
      "needs_background": "light"
     },
     "output_type": "display_data"
    },
    {
     "name": "stdout",
     "output_type": "stream",
     "text": [
      "0.784898996353\n"
     ]
    }
   ],
   "source": [
    "iterations = 10**5\n",
    "gen = 80 #judging from the former results, 80 is about right\n",
    "\n",
    "time_begin = time.time()\n",
    "\n",
    "dates = np.random.randint(0, days_len, (iterations, gen))\n",
    "uni = np.random.uniform(0, 1, (iterations, gen)) * max_prob\n",
    "\n",
    "donors, boundaries = square(probs)\n",
    "\n",
    "donees_mapping = uni < boundaries[dates]\n",
    "donors_mapping = np.invert(donees_mapping)\n",
    "\n",
    "dates[donors_mapping] = donors[dates[donors_mapping]]\n",
    "\n",
    "results = lookup_repetition(dates)\n",
    "\n",
    "time_stop = time.time()\n",
    "\n",
    "plt.hist(results, bins=range(min(results), max(results) + 1, 1))\n",
    "plt.show()\n",
    "\n",
    "print(str(time_stop - time_begin))\n"
   ]
  },
  {
   "cell_type": "markdown",
   "metadata": {},
   "source": [
    "\n",
    "**Problem 2d.** Show that the frequency histogram for empirical birthday frequencies can actually be computed exactly, and implement your idea. To this end, design a recurence relation using conditional probabilities and use dynamic programming."
   ]
  },
  {
   "cell_type": "markdown",
   "metadata": {},
   "source": [
    "**BONUS**. An alternative plotting library: plotly"
   ]
  },
  {
   "cell_type": "code",
   "execution_count": null,
   "metadata": {},
   "outputs": [],
   "source": []
  }
 ],
 "metadata": {
  "kernelspec": {
   "display_name": "Python 2",
   "language": "python",
   "name": "python2"
  },
  "language_info": {
   "codemirror_mode": {
    "name": "ipython",
    "version": 2
   },
   "file_extension": ".py",
   "mimetype": "text/x-python",
   "name": "python",
   "nbconvert_exporter": "python",
   "pygments_lexer": "ipython2",
   "version": "2.7.15+"
  }
 },
 "nbformat": 4,
 "nbformat_minor": 1
}
