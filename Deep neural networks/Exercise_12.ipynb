{
  "nbformat": 4,
  "nbformat_minor": 0,
  "metadata": {
    "colab": {
      "name": "Exercise_12.ipynb",
      "provenance": [],
      "collapsed_sections": []
    },
    "kernelspec": {
      "name": "python3",
      "display_name": "Python 3"
    },
    "language_info": {
      "name": "python"
    }
  },
  "cells": [
    {
      "cell_type": "markdown",
      "metadata": {
        "id": "zAh8AAYKyGaZ"
      },
      "source": [
        "# TL;DR\n",
        "\n",
        "1. In this lab scenario you will have a chance to compare performance of the classic RNN and LSTM on a toy example. \n",
        "2. This toy example will show that maintaining memory over even 20 steps is non-trivial. \n",
        "3. Finally, you will see how curriculum learning may allow to train a model on larger sequences.\n",
        "\n",
        "# Problem definition\n",
        "\n",
        "Here we consider a toy example, where the goal is to discriminate between two types of binary sequences:\n",
        "* [Type 0] a sequence with exactly one zero (remaining entries are equal to one).\n",
        "* [Type 1] a sequence full of ones,\n",
        "\n",
        "We are especially interested in the performance of the trained models on discriminating between a sequence full of ones versus a sequence with leading zero followed by ones. Note that in this case the goal of the model is to output the first element of the sequence, as the label (sequence type) is fully determined by the first element of the sequence."
      ]
    },
    {
      "cell_type": "markdown",
      "metadata": {
        "id": "w89kJcvtzNRm"
      },
      "source": [
        "#Implementation"
      ]
    },
    {
      "cell_type": "markdown",
      "metadata": {
        "id": "1WyKOni1OEiS"
      },
      "source": [
        "## Importing torch\n",
        "\n",
        "Install `torch` and `torchvision`"
      ]
    },
    {
      "cell_type": "code",
      "metadata": {
        "colab": {
          "base_uri": "https://localhost:8080/"
        },
        "id": "lFlmFfiPN1hI",
        "outputId": "6efbf2da-9a1c-4e3d-8389-431ef0021cbe"
      },
      "source": [
        "!pip3 install torch torchvision"
      ],
      "execution_count": null,
      "outputs": [
        {
          "output_type": "stream",
          "text": [
            "Requirement already satisfied: torch in /usr/local/lib/python3.7/dist-packages (1.8.1+cu101)\n",
            "Requirement already satisfied: torchvision in /usr/local/lib/python3.7/dist-packages (0.9.1+cu101)\n",
            "Requirement already satisfied: typing-extensions in /usr/local/lib/python3.7/dist-packages (from torch) (3.7.4.3)\n",
            "Requirement already satisfied: numpy in /usr/local/lib/python3.7/dist-packages (from torch) (1.19.5)\n",
            "Requirement already satisfied: pillow>=4.1.1 in /usr/local/lib/python3.7/dist-packages (from torchvision) (7.1.2)\n"
          ],
          "name": "stdout"
        }
      ]
    },
    {
      "cell_type": "code",
      "metadata": {
        "colab": {
          "base_uri": "https://localhost:8080/"
        },
        "id": "kRYUIgJLOa6X",
        "outputId": "60176aac-3e1a-4d09-922c-77776d2d6252"
      },
      "source": [
        "import torch\n",
        "import torch.nn as nn\n",
        "import torch.optim as optim\n",
        "import torch.nn.functional as F\n",
        "\n",
        "torch.manual_seed(1)"
      ],
      "execution_count": 2,
      "outputs": [
        {
          "output_type": "execute_result",
          "data": {
            "text/plain": [
              "<torch._C.Generator at 0x7f13db1468b0>"
            ]
          },
          "metadata": {
            "tags": []
          },
          "execution_count": 2
        }
      ]
    },
    {
      "cell_type": "markdown",
      "metadata": {
        "id": "eMfnsxS4zdp9"
      },
      "source": [
        "## Understand dimensionality\n",
        "\n",
        "Check the input and output specification [LSTM](https://pytorch.org/docs/stable/generated/torch.nn.LSTM.html) and [RNN](https://pytorch.org/docs/stable/generated/torch.nn.RNN.html). The following snippet shows how we can process\n",
        "a sequence by LSTM and output a vector of size `hidden_dim` after reading\n",
        "each token of the sequence. "
      ]
    },
    {
      "cell_type": "code",
      "metadata": {
        "colab": {
          "base_uri": "https://localhost:8080/"
        },
        "id": "s_MMm1AaObmg",
        "outputId": "e56fc44b-2362-456a-eade-026fc2b1f944"
      },
      "source": [
        "hidden_dim = 5\n",
        "lstm = nn.LSTM(1, hidden_dim)  # Input sequence contains elements - vectors of size 1\n",
        "\n",
        "# create a random sequence\n",
        "sequence = [torch.randn(1) for _ in range(10)]\n",
        "\n",
        "# initialize the hidden state (including cell state)\n",
        "hidden = (torch.zeros(1, 1, 5),\n",
        "          torch.zeros(1, 1, 5))\n",
        "\n",
        "for i, elem in enumerate(sequence):\n",
        "  # we are processing only a single element of the sequence, and there\n",
        "  # is only one sample (sequence) in the batch, the third one\n",
        "  # corresponds to the fact that our sequence contains elemenents,\n",
        "  # which can be treated as vectors of size 1\n",
        "  out, hidden = lstm(elem.view(1, 1, 1), hidden)\n",
        "  print(f'i={i} out={out.detach()}')\n",
        "print(f'Final hidden state={hidden[0].detach()} cell state={hidden[1].detach()}')"
      ],
      "execution_count": 3,
      "outputs": [
        {
          "output_type": "stream",
          "text": [
            "i=0 out=tensor([[[-0.0675,  0.1179,  0.1081,  0.0414, -0.0341]]])\n",
            "i=1 out=tensor([[[-0.1067,  0.1726,  0.1400,  0.0902, -0.0596]]])\n",
            "i=2 out=tensor([[[-0.1148,  0.1885,  0.1956,  0.0974, -0.0840]]])\n",
            "i=3 out=tensor([[[-0.1270,  0.2031,  0.1495,  0.1249, -0.0860]]])\n",
            "i=4 out=tensor([[[-0.1281,  0.2019,  0.1810,  0.1475, -0.1027]]])\n",
            "i=5 out=tensor([[[-0.1274,  0.2060,  0.0798,  0.1330, -0.0860]]])\n",
            "i=6 out=tensor([[[-0.1318,  0.2039,  0.0997,  0.1772, -0.1011]]])\n",
            "i=7 out=tensor([[[-0.1145,  0.2008, -0.0431,  0.1051, -0.0717]]])\n",
            "i=8 out=tensor([[[-0.1289,  0.1989,  0.0515,  0.1944, -0.1030]]])\n",
            "i=9 out=tensor([[[-0.1329,  0.1920,  0.0686,  0.1772, -0.0988]]])\n",
            "Final hidden state=tensor([[[-0.1329,  0.1920,  0.0686,  0.1772, -0.0988]]]) cell state=tensor([[[-0.2590,  0.4080,  0.1307,  0.4329, -0.2895]]])\n"
          ],
          "name": "stdout"
        }
      ]
    },
    {
      "cell_type": "markdown",
      "metadata": {
        "id": "Ph3iyjw_8F30"
      },
      "source": [
        "## To implement\n",
        "\n",
        "Process the whole sequence all at once by calling `lstm` only once and check that the output is exactly the same as above (remember to initialize the hidden state the same way)."
      ]
    },
    {
      "cell_type": "code",
      "metadata": {
        "id": "tFtxYqla8bJM",
        "colab": {
          "base_uri": "https://localhost:8080/"
        },
        "outputId": "57b4b73f-d680-4fb6-ab01-a3c1c948d375"
      },
      "source": [
        "# To implement\n",
        "\n",
        "input = torch.cat(sequence).view(len(sequence), 1, -1)\n",
        "\n",
        "hidden = (torch.zeros(1, 1, 5),\n",
        "          torch.zeros(1, 1, 5))\n",
        "\n",
        "out, hidden = lstm(input, hidden)\n",
        "print(out)\n",
        "print(hidden)"
      ],
      "execution_count": 4,
      "outputs": [
        {
          "output_type": "stream",
          "text": [
            "tensor([[[-0.0675,  0.1179,  0.1081,  0.0414, -0.0341]],\n",
            "\n",
            "        [[-0.1067,  0.1726,  0.1400,  0.0902, -0.0596]],\n",
            "\n",
            "        [[-0.1148,  0.1885,  0.1956,  0.0974, -0.0840]],\n",
            "\n",
            "        [[-0.1270,  0.2031,  0.1495,  0.1249, -0.0860]],\n",
            "\n",
            "        [[-0.1281,  0.2019,  0.1810,  0.1475, -0.1027]],\n",
            "\n",
            "        [[-0.1274,  0.2060,  0.0798,  0.1330, -0.0860]],\n",
            "\n",
            "        [[-0.1318,  0.2039,  0.0997,  0.1772, -0.1011]],\n",
            "\n",
            "        [[-0.1145,  0.2008, -0.0431,  0.1051, -0.0717]],\n",
            "\n",
            "        [[-0.1289,  0.1989,  0.0515,  0.1944, -0.1030]],\n",
            "\n",
            "        [[-0.1329,  0.1920,  0.0686,  0.1772, -0.0988]]],\n",
            "       grad_fn=<StackBackward>)\n",
            "(tensor([[[-0.1329,  0.1920,  0.0686,  0.1772, -0.0988]]],\n",
            "       grad_fn=<StackBackward>), tensor([[[-0.2590,  0.4080,  0.1307,  0.4329, -0.2895]]],\n",
            "       grad_fn=<StackBackward>))\n"
          ],
          "name": "stdout"
        }
      ]
    },
    {
      "cell_type": "markdown",
      "metadata": {
        "id": "9VAUJUhx9EAC"
      },
      "source": [
        "## Training a model\n",
        "\n",
        "Below we define a very simple model, which is a single layer of LSTM, where the output in each time step is processed by relu followed by a single fully connected layer, the output of which is a single number. We are going\n",
        "to use the number generated after reading the last element of the sequence,\n",
        "which will serve as the logit for our classification problem."
      ]
    },
    {
      "cell_type": "code",
      "metadata": {
        "id": "qncNRKMNOh9h"
      },
      "source": [
        "class Model(nn.Module):\n",
        "\n",
        "    def __init__(self, hidden_dim):\n",
        "        super(Model, self).__init__()\n",
        "        self.hidden_dim = hidden_dim\n",
        "        self.lstm = nn.LSTM(1, self.hidden_dim)\n",
        "        self.hidden2label = nn.Linear(hidden_dim, 1)\n",
        "\n",
        "    def forward(self, x):\n",
        "        out, _ = self.lstm(x)\n",
        "        sequence_len = x.shape[0]\n",
        "        logits = self.hidden2label(F.relu(out[-1].view(-1)))\n",
        "        return logits"
      ],
      "execution_count": 5,
      "outputs": []
    },
    {
      "cell_type": "markdown",
      "metadata": {
        "id": "IF4r0AUu9g6a"
      },
      "source": [
        "Below is a training loop, where we only train on the two hardest examples."
      ]
    },
    {
      "cell_type": "code",
      "metadata": {
        "id": "gTaCFMBBOkOp"
      },
      "source": [
        "SEQUENCE_LEN = 10\n",
        "\n",
        "# Pairs of (sequence, label)\n",
        "HARD_EXAMPLES = [([0.]+(SEQUENCE_LEN-1)*[1.], 0),\n",
        "                 (SEQUENCE_LEN*[1.], 1)]\n",
        "\n",
        "\n",
        "def eval_on_hard_examples(model):\n",
        "    with torch.no_grad():\n",
        "        logits = []\n",
        "        for sequence in HARD_EXAMPLES:\n",
        "            input = torch.tensor(sequence[0]).view(-1, 1, 1)\n",
        "            logit = model(input)\n",
        "            logits.append(logit.detach())\n",
        "        print(f'Logits for hard examples={logits}')\n",
        "\n",
        "\n",
        "def train_model(hidden_dim, lr, num_steps=10000):\n",
        "    model = Model(hidden_dim=hidden_dim)\n",
        "    loss_function = nn.BCEWithLogitsLoss()\n",
        "    optimizer = optim.SGD(model.parameters(), lr=lr, momentum=0.99)\n",
        "\n",
        "    for step in range(num_steps):  \n",
        "        if step % (num_steps // 5) == 0:\n",
        "            eval_on_hard_examples(model)\n",
        "\n",
        "        for sequence, label in HARD_EXAMPLES:\n",
        "            model.zero_grad()\n",
        "            logit = model(torch.tensor(sequence).view(-1, 1, 1))  \n",
        "            \n",
        "            loss = loss_function(logit.view(-1), torch.tensor([label], dtype=torch.float32))\n",
        "            loss.backward()\n",
        "\n",
        "            optimizer.step() \n",
        "\n",
        "    return model"
      ],
      "execution_count": 99,
      "outputs": []
    },
    {
      "cell_type": "code",
      "metadata": {
        "id": "wVHU71P5EWsm",
        "colab": {
          "base_uri": "https://localhost:8080/"
        },
        "outputId": "9e14366b-c430-4569-c19f-80c2cdb1afb4"
      },
      "source": [
        "model = train_model(hidden_dim=20, lr=0.01, num_steps=10000)"
      ],
      "execution_count": 100,
      "outputs": [
        {
          "output_type": "stream",
          "text": [
            "Logits for hard examples=[tensor([-0.1291]), tensor([-0.1295])]\n",
            "Logits for hard examples=[tensor([-12.7435]), tensor([15.6889])]\n",
            "Logits for hard examples=[tensor([-12.7764]), tensor([15.6845])]\n",
            "Logits for hard examples=[tensor([-12.8088]), tensor([15.6804])]\n",
            "Logits for hard examples=[tensor([-12.8401]), tensor([15.6765])]\n"
          ],
          "name": "stdout"
        }
      ]
    },
    {
      "cell_type": "markdown",
      "metadata": {
        "id": "2Lt7dRkJDfqd"
      },
      "source": [
        "## To implement\n",
        "\n",
        "1. Check for what values of `SEQUENCE_LEN` the model is able to discriminate betweeh the two hard examples (after training).\n",
        "2. Instead of training on `HARD_EXAMPLES` only, modify the training loop to train on sequences where zero may be in any position of the sequence (so any valid sequence of `Type 0`, not just the hardest one). After modifying the training loop check for what values of `SEQUENCE_LEN` you can train the model successfully.\n",
        "3. Replace LSTM by a classic RNN and check for what values of `SEQUENCE_LEN` you can train the model successfully.\n",
        "4. Write a proper curricullum learning loop, where in a loop you consider longer and longer sequences, where expansion of the sequence length happens only after the model is trained successfully on the current length.\n",
        "\n",
        "Note that for steps 2-4 you may need to change the value of `num_steps`.\n"
      ]
    },
    {
      "cell_type": "code",
      "metadata": {
        "id": "mZZV8-0uRgWC"
      },
      "source": [
        "def generate_hard_examples(sequence_len):\n",
        "  return [([0.]+(sequence_len-1)*[1.], 0), (sequence_len*[1.], 1)]"
      ],
      "execution_count": 8,
      "outputs": []
    },
    {
      "cell_type": "code",
      "metadata": {
        "colab": {
          "base_uri": "https://localhost:8080/"
        },
        "id": "hN0tRXJ4qU3o",
        "outputId": "37f2b47c-1cde-4a35-c692-f5ec099e66c2"
      },
      "source": [
        "# 1. Check for what values of SEQUENCE_LEN the model is able to discriminate betweeh the two hard examples (after training).\n",
        "hard_examples = generate_hard_examples(1000)\n",
        "\n",
        "with torch.no_grad():\n",
        "  for i in list(range(1, 10)) + list(range(100, 1001, 300)):\n",
        "    logits = [model(torch.tensor(seq[:i]).view(-1, 1, 1)) for seq, _ in hard_examples]\n",
        "    print(\"Sequence size \", i, \":\", *logits)      "
      ],
      "execution_count": 27,
      "outputs": [
        {
          "output_type": "stream",
          "text": [
            "Sequence size  1 : tensor([-6.0568]) tensor([3.0099])\n",
            "Sequence size  2 : tensor([-8.1653]) tensor([8.7463])\n",
            "Sequence size  3 : tensor([-9.7948]) tensor([11.0172])\n",
            "Sequence size  4 : tensor([-11.1367]) tensor([11.9786])\n",
            "Sequence size  5 : tensor([-11.8641]) tensor([12.2417])\n",
            "Sequence size  6 : tensor([-12.2062]) tensor([12.3171])\n",
            "Sequence size  7 : tensor([-12.4140]) tensor([12.3553])\n",
            "Sequence size  8 : tensor([-12.5057]) tensor([12.3768])\n",
            "Sequence size  9 : tensor([-12.5301]) tensor([12.3896])\n",
            "Sequence size  100 : tensor([-12.5552]) tensor([12.4122])\n",
            "Sequence size  400 : tensor([-12.5552]) tensor([12.4122])\n",
            "Sequence size  700 : tensor([-12.5552]) tensor([12.4122])\n",
            "Sequence size  1000 : tensor([-12.5552]) tensor([12.4122])\n"
          ],
          "name": "stdout"
        }
      ]
    },
    {
      "cell_type": "code",
      "metadata": {
        "id": "SkAHS2VCXQKt"
      },
      "source": [
        "# 2. Train on examples other than HARD_EXAMPLES\n",
        "import random\n",
        "\n",
        "def get_train_examples(batch_size, sequence_len):\n",
        "  examples = [[[1.] * sequence_len, 1] for _ in range(batch_size)]\n",
        "  for i in range(0, batch_size, 2):\n",
        "    examples[i][0][random.randint(0, sequence_len - 1)] = 0.\n",
        "    examples[i][1] = 0\n",
        "  \n",
        "  random.shuffle(examples)\n",
        "  return examples\n",
        "\n",
        "def eval_on_hard_examples(model, sequence_len):\n",
        "    with torch.no_grad():\n",
        "        logits = []\n",
        "        for sequence in generate_hard_examples(sequence_len):\n",
        "            input = torch.tensor(sequence[0]).view(-1, 1, 1)\n",
        "            logit = model(input)\n",
        "            logits.append(logit.detach())\n",
        "        print(f'Logits for hard examples={logits}')\n",
        "\n",
        "def train_model_on_all(model_cl, hidden_dim, lr=0.001, num_steps=64, batch_size=128, sequence_len=SEQUENCE_LEN):\n",
        "    model = model_cl(hidden_dim=hidden_dim)\n",
        "    loss_function = nn.BCEWithLogitsLoss()\n",
        "    optimizer = optim.Adam(model.parameters(), lr=lr)\n",
        "\n",
        "    for step in range(num_steps):  \n",
        "        if step % (num_steps // 5) == 0:\n",
        "            eval_on_hard_examples(model, sequence_len)\n",
        "\n",
        "        for sequence, label in get_train_examples(batch_size, sequence_len):\n",
        "            model.zero_grad()\n",
        "            logit = model(torch.tensor(sequence).view(-1, 1, 1))  \n",
        "            \n",
        "            loss = loss_function(logit.view(-1), torch.tensor([label], dtype=torch.float32))\n",
        "            loss.backward()\n",
        "\n",
        "            optimizer.step() \n",
        "\n",
        "    return model"
      ],
      "execution_count": 201,
      "outputs": []
    },
    {
      "cell_type": "code",
      "metadata": {
        "colab": {
          "base_uri": "https://localhost:8080/"
        },
        "id": "3TgKgRF2Uans",
        "outputId": "74c8325a-0316-4cbc-d2b4-9c774c9537ff"
      },
      "source": [
        "model = train_model_on_all(model_cl=Model, hidden_dim=20, lr=0.0001, sequence_len=5)"
      ],
      "execution_count": 165,
      "outputs": [
        {
          "output_type": "stream",
          "text": [
            "Logits for hard examples=[tensor([0.1277]), tensor([0.1261])]\n",
            "Logits for hard examples=[tensor([0.1080]), tensor([0.1081])]\n",
            "Logits for hard examples=[tensor([0.0956]), tensor([0.0999])]\n",
            "Logits for hard examples=[tensor([0.0867]), tensor([0.1218])]\n",
            "Logits for hard examples=[tensor([-0.0936]), tensor([0.2174])]\n",
            "Logits for hard examples=[tensor([-0.5864]), tensor([0.4229])]\n"
          ],
          "name": "stdout"
        }
      ]
    },
    {
      "cell_type": "code",
      "metadata": {
        "colab": {
          "base_uri": "https://localhost:8080/"
        },
        "id": "ifTHy5a3ZQEO",
        "outputId": "4dea634b-03c6-428e-be04-eda4e59d0a61"
      },
      "source": [
        "model = train_model_on_all(model_cl=Model, hidden_dim=20, lr=0.0001, sequence_len=10)"
      ],
      "execution_count": 166,
      "outputs": [
        {
          "output_type": "stream",
          "text": [
            "Logits for hard examples=[tensor([-0.0681]), tensor([-0.0681])]\n",
            "Logits for hard examples=[tensor([-0.0198]), tensor([-0.0188])]\n",
            "Logits for hard examples=[tensor([0.0039]), tensor([0.0251])]\n",
            "Logits for hard examples=[tensor([-1.3582]), tensor([0.1065])]\n",
            "Logits for hard examples=[tensor([-1.9673]), tensor([0.8719])]\n",
            "Logits for hard examples=[tensor([-2.4964]), tensor([0.9570])]\n"
          ],
          "name": "stdout"
        }
      ]
    },
    {
      "cell_type": "code",
      "metadata": {
        "colab": {
          "base_uri": "https://localhost:8080/"
        },
        "id": "rVySR2Y7dyc-",
        "outputId": "fc71b771-6f3f-470b-cd63-add2d03f9a03"
      },
      "source": [
        "model = train_model_on_all(model_cl=Model, hidden_dim=20, lr=0.0001, sequence_len=11)"
      ],
      "execution_count": 167,
      "outputs": [
        {
          "output_type": "stream",
          "text": [
            "Logits for hard examples=[tensor([-0.2064]), tensor([-0.2064])]\n",
            "Logits for hard examples=[tensor([-0.1264]), tensor([-0.1251])]\n",
            "Logits for hard examples=[tensor([-0.4975]), tensor([-0.0659])]\n",
            "Logits for hard examples=[tensor([-1.0397]), tensor([0.6177])]\n",
            "Logits for hard examples=[tensor([-1.4367]), tensor([0.4972])]\n",
            "Logits for hard examples=[tensor([-1.7889]), tensor([0.9149])]\n"
          ],
          "name": "stdout"
        }
      ]
    },
    {
      "cell_type": "code",
      "metadata": {
        "colab": {
          "base_uri": "https://localhost:8080/"
        },
        "id": "EMOSofqBjfme",
        "outputId": "2d7c64ff-8ad4-42e1-c22d-fb6f13969f63"
      },
      "source": [
        "model = train_model_on_all(model_cl=Model, hidden_dim=20, lr=0.0005, sequence_len=15)"
      ],
      "execution_count": 230,
      "outputs": [
        {
          "output_type": "stream",
          "text": [
            "Logits for hard examples=[tensor([-0.1940]), tensor([-0.1940])]\n",
            "Logits for hard examples=[tensor([0.0106]), tensor([0.0120])]\n",
            "Logits for hard examples=[tensor([-1.0678]), tensor([0.3629])]\n",
            "Logits for hard examples=[tensor([-2.2032]), tensor([0.6266])]\n",
            "Logits for hard examples=[tensor([-3.5476]), tensor([1.3773])]\n",
            "Logits for hard examples=[tensor([-5.3074]), tensor([1.2402])]\n"
          ],
          "name": "stdout"
        }
      ]
    },
    {
      "cell_type": "code",
      "metadata": {
        "colab": {
          "base_uri": "https://localhost:8080/"
        },
        "id": "2zej6ikJlDsS",
        "outputId": "0c5c93b2-af09-4401-94d6-cf260aa9cdd7"
      },
      "source": [
        "model = train_model_on_all(model_cl=Model, hidden_dim=20, lr=0.0005, sequence_len=20)"
      ],
      "execution_count": 231,
      "outputs": [
        {
          "output_type": "stream",
          "text": [
            "Logits for hard examples=[tensor([-0.1625]), tensor([-0.1625])]\n",
            "Logits for hard examples=[tensor([-0.0161]), tensor([-0.0161])]\n",
            "Logits for hard examples=[tensor([0.0245]), tensor([0.0360])]\n",
            "Logits for hard examples=[tensor([-0.4180]), tensor([0.7219])]\n",
            "Logits for hard examples=[tensor([-2.7927]), tensor([0.8207])]\n",
            "Logits for hard examples=[tensor([-4.2558]), tensor([1.8743])]\n"
          ],
          "name": "stdout"
        }
      ]
    },
    {
      "cell_type": "code",
      "metadata": {
        "colab": {
          "base_uri": "https://localhost:8080/"
        },
        "id": "C0OA8RU_lNdI",
        "outputId": "473ebacf-6f84-4ee5-ffd9-cd12d031e4df"
      },
      "source": [
        "model = train_model_on_all(model_cl=Model, hidden_dim=20, lr=0.0005, sequence_len=100)"
      ],
      "execution_count": 232,
      "outputs": [
        {
          "output_type": "stream",
          "text": [
            "Logits for hard examples=[tensor([-0.1570]), tensor([-0.1570])]\n",
            "Logits for hard examples=[tensor([-0.0348]), tensor([-0.0348])]\n",
            "Logits for hard examples=[tensor([-0.0176]), tensor([-0.0176])]\n",
            "Logits for hard examples=[tensor([-0.0024]), tensor([-0.0024])]\n",
            "Logits for hard examples=[tensor([-0.0045]), tensor([-0.0045])]\n",
            "Logits for hard examples=[tensor([-0.0022]), tensor([-0.0022])]\n"
          ],
          "name": "stdout"
        }
      ]
    },
    {
      "cell_type": "code",
      "metadata": {
        "id": "2dOLhSX3d4QY"
      },
      "source": [
        "# 3. Replace LSTM by a classic RNN and check for what values of SEQUENCE_LEN you can train the model successfully.\n",
        "\n",
        "class ModelRNN(nn.Module):\n",
        "    def __init__(self, hidden_dim):\n",
        "        super(ModelRNN, self).__init__()\n",
        "        self.hidden_dim = hidden_dim\n",
        "        self.rnn = nn.RNN(1, self.hidden_dim)\n",
        "        self.hidden2label = nn.Linear(hidden_dim, 1)\n",
        "\n",
        "    def forward(self, x):\n",
        "        out, _ = self.rnn(x)\n",
        "        sequence_len = x.shape[0]\n",
        "        logits = self.hidden2label(F.relu(out[-1].view(-1)))\n",
        "        return logits"
      ],
      "execution_count": 233,
      "outputs": []
    },
    {
      "cell_type": "code",
      "metadata": {
        "colab": {
          "base_uri": "https://localhost:8080/"
        },
        "id": "OvVkVp0pgPXi",
        "outputId": "cbedd6c9-953f-40f7-df61-6113664d8a13"
      },
      "source": [
        "model = train_model_on_all(model_cl=ModelRNN, hidden_dim=20, lr=0.0005, sequence_len=10)"
      ],
      "execution_count": 175,
      "outputs": [
        {
          "output_type": "stream",
          "text": [
            "Logits for hard examples=[tensor([-0.3080]), tensor([-0.3078])]\n",
            "Logits for hard examples=[tensor([-1.3091]), tensor([0.5107])]\n",
            "Logits for hard examples=[tensor([-3.0044]), tensor([1.3341])]\n",
            "Logits for hard examples=[tensor([-4.1045]), tensor([2.1033])]\n",
            "Logits for hard examples=[tensor([-4.7564]), tensor([2.6488])]\n",
            "Logits for hard examples=[tensor([-5.2818]), tensor([3.2748])]\n"
          ],
          "name": "stdout"
        }
      ]
    },
    {
      "cell_type": "code",
      "metadata": {
        "colab": {
          "base_uri": "https://localhost:8080/"
        },
        "id": "Zq9mW9-6hvl2",
        "outputId": "b0bcc63f-f048-4085-b51c-7c1f2123c3e1"
      },
      "source": [
        "model = train_model_on_all(model_cl=ModelRNN, hidden_dim=20, lr=0.0005, sequence_len=15)"
      ],
      "execution_count": 176,
      "outputs": [
        {
          "output_type": "stream",
          "text": [
            "Logits for hard examples=[tensor([0.1063]), tensor([0.1063])]\n",
            "Logits for hard examples=[tensor([0.0147]), tensor([0.0734])]\n",
            "Logits for hard examples=[tensor([-2.4030]), tensor([0.5212])]\n",
            "Logits for hard examples=[tensor([-3.1977]), tensor([1.0458])]\n",
            "Logits for hard examples=[tensor([-4.4182]), tensor([1.4480])]\n",
            "Logits for hard examples=[tensor([-5.1073]), tensor([1.9153])]\n"
          ],
          "name": "stdout"
        }
      ]
    },
    {
      "cell_type": "code",
      "metadata": {
        "colab": {
          "base_uri": "https://localhost:8080/"
        },
        "id": "OKMWN6lSh43_",
        "outputId": "2e8061a2-51df-4898-cf59-870a384401d9"
      },
      "source": [
        "model = train_model_on_all(model_cl=ModelRNN, hidden_dim=20, lr=0.0005, sequence_len=20)"
      ],
      "execution_count": 177,
      "outputs": [
        {
          "output_type": "stream",
          "text": [
            "Logits for hard examples=[tensor([0.0564]), tensor([0.0564])]\n",
            "Logits for hard examples=[tensor([0.0204]), tensor([0.0204])]\n",
            "Logits for hard examples=[tensor([-0.4085]), tensor([0.6426])]\n",
            "Logits for hard examples=[tensor([-2.3408]), tensor([1.5616])]\n",
            "Logits for hard examples=[tensor([-3.4412]), tensor([2.1318])]\n",
            "Logits for hard examples=[tensor([-4.0318]), tensor([2.2593])]\n"
          ],
          "name": "stdout"
        }
      ]
    },
    {
      "cell_type": "code",
      "metadata": {
        "colab": {
          "base_uri": "https://localhost:8080/"
        },
        "id": "oplm6g0xiDxT",
        "outputId": "4f5f7954-2964-463c-f994-defaa80681fe"
      },
      "source": [
        "model = train_model_on_all(model_cl=ModelRNN, hidden_dim=20, lr=0.0005, sequence_len=100)"
      ],
      "execution_count": 178,
      "outputs": [
        {
          "output_type": "stream",
          "text": [
            "Logits for hard examples=[tensor([0.0399]), tensor([0.0399])]\n",
            "Logits for hard examples=[tensor([-0.0109]), tensor([-0.0109])]\n",
            "Logits for hard examples=[tensor([0.0209]), tensor([0.0209])]\n",
            "Logits for hard examples=[tensor([-0.0067]), tensor([-0.0067])]\n",
            "Logits for hard examples=[tensor([0.0215]), tensor([0.0314])]\n",
            "Logits for hard examples=[tensor([-0.1254]), tensor([0.0667])]\n"
          ],
          "name": "stdout"
        }
      ]
    },
    {
      "cell_type": "code",
      "metadata": {
        "id": "LM-1qknCnOcm"
      },
      "source": [
        "# 4. Write a proper curricullum learning loop, where in a loop you consider longer and longer sequences, where expansion of the sequence length happens only after the model is trained successfully on the current length.\n",
        "import numpy as np\n",
        "\n",
        "def score_on_hard_examples(model, sequence_len):\n",
        "    with torch.no_grad():\n",
        "        (z, _), (o, _) = generate_hard_examples(sequence_len)\n",
        "        logits = [model(torch.tensor(seq).view(-1, 1, 1)) for seq in [z, o]]\n",
        "        return (int(logits[0].item() < 0) + int(logits[1].item() >= 0)) / 2\n",
        "\n",
        "def train_model_curriculum(model_cl, hidden_dim, lr=0.001, num_steps=64, batch_size=128, sequence_lens=[SEQUENCE_LEN]):\n",
        "    model = model_cl(hidden_dim=hidden_dim)\n",
        "    loss_function = nn.BCEWithLogitsLoss()\n",
        "    optimizer = optim.Adam(model.parameters(), lr=lr)\n",
        "\n",
        "    for sequence_len in sequence_lens:\n",
        "      print(\"Evaluating for sequence_len: \", sequence_len)\n",
        "      scores = [0]\n",
        "      step = 0\n",
        "      while step < num_steps and np.mean(scores[-100:]) < 0.9:\n",
        "        if step % (num_steps // 3) == 0:\n",
        "            eval_on_hard_examples(model, sequence_len)\n",
        "\n",
        "        for sequence, label in get_train_examples(batch_size, sequence_len):\n",
        "          model.zero_grad()\n",
        "          logit = model(torch.tensor(sequence).view(-1, 1, 1))  \n",
        "          \n",
        "          loss = loss_function(logit.view(-1), torch.tensor([label], dtype=torch.float32))\n",
        "          loss.backward()\n",
        "\n",
        "          optimizer.step() \n",
        "          scores.append(score_on_hard_examples(model, sequence_len))\n",
        "          \n",
        "        step += 1\n",
        "      if step == num_steps:\n",
        "        break\n",
        "\n",
        "      print(\"Successfully trained for sequence len \", sequence_len)\n",
        "\n",
        "    return model"
      ],
      "execution_count": 234,
      "outputs": []
    },
    {
      "cell_type": "code",
      "metadata": {
        "colab": {
          "base_uri": "https://localhost:8080/"
        },
        "id": "KR56vRRCsJq5",
        "outputId": "fd5f1937-e01f-4e88-c350-fcc69cadc70f"
      },
      "source": [
        "model = train_model_curriculum(model_cl=Model, hidden_dim=20, lr=0.0001, sequence_lens=[10, 15, 20, 40, 100, 200, 1000, 2000])"
      ],
      "execution_count": 237,
      "outputs": [
        {
          "output_type": "stream",
          "text": [
            "Evaluating for sequence_len:  10\n",
            "Logits for hard examples=[tensor([0.1304]), tensor([0.1304])]\n",
            "Logits for hard examples=[tensor([0.0579]), tensor([0.0611])]\n",
            "Successfully trained for sequence len  10\n",
            "Evaluating for sequence_len:  15\n",
            "Logits for hard examples=[tensor([0.0653]), tensor([0.1337])]\n",
            "Successfully trained for sequence len  15\n",
            "Evaluating for sequence_len:  20\n",
            "Logits for hard examples=[tensor([-0.7871]), tensor([0.2694])]\n",
            "Successfully trained for sequence len  20\n",
            "Evaluating for sequence_len:  40\n",
            "Logits for hard examples=[tensor([-0.6842]), tensor([0.2893])]\n",
            "Successfully trained for sequence len  40\n",
            "Evaluating for sequence_len:  100\n",
            "Logits for hard examples=[tensor([-0.7157]), tensor([0.2920])]\n",
            "Successfully trained for sequence len  100\n",
            "Evaluating for sequence_len:  200\n",
            "Logits for hard examples=[tensor([-0.7349]), tensor([0.2837])]\n",
            "Successfully trained for sequence len  200\n",
            "Evaluating for sequence_len:  1000\n",
            "Logits for hard examples=[tensor([-0.7447]), tensor([0.2766])]\n",
            "Successfully trained for sequence len  1000\n",
            "Evaluating for sequence_len:  2000\n",
            "Logits for hard examples=[tensor([-0.7498]), tensor([0.2642])]\n",
            "Successfully trained for sequence len  2000\n"
          ],
          "name": "stdout"
        }
      ]
    },
    {
      "cell_type": "code",
      "metadata": {
        "colab": {
          "base_uri": "https://localhost:8080/"
        },
        "id": "QQe7_2MQsoRv",
        "outputId": "b4ba010b-d8cd-48c3-e06b-9c8bcbde3322"
      },
      "source": [
        "model = train_model_curriculum(model_cl=ModelRNN, hidden_dim=20, lr=0.0001, sequence_lens=[10, 15, 20, 40, 100, 200, 1000, 2000])"
      ],
      "execution_count": 238,
      "outputs": [
        {
          "output_type": "stream",
          "text": [
            "Evaluating for sequence_len:  10\n",
            "Logits for hard examples=[tensor([0.0689]), tensor([0.0689])]\n",
            "Successfully trained for sequence len  10\n",
            "Evaluating for sequence_len:  15\n",
            "Logits for hard examples=[tensor([-0.2744]), tensor([-0.0728])]\n",
            "Successfully trained for sequence len  15\n",
            "Evaluating for sequence_len:  20\n",
            "Logits for hard examples=[tensor([-0.8226]), tensor([-0.1406])]\n",
            "Successfully trained for sequence len  20\n",
            "Evaluating for sequence_len:  40\n",
            "Logits for hard examples=[tensor([-0.9403]), tensor([-0.9395])]\n",
            "Successfully trained for sequence len  40\n",
            "Evaluating for sequence_len:  100\n",
            "Logits for hard examples=[tensor([-0.1743]), tensor([-0.1743])]\n",
            "Logits for hard examples=[tensor([0.1553]), tensor([0.1553])]\n",
            "Logits for hard examples=[tensor([0.0336]), tensor([0.0336])]\n",
            "Logits for hard examples=[tensor([0.0048]), tensor([0.0048])]\n"
          ],
          "name": "stdout"
        }
      ]
    },
    {
      "cell_type": "code",
      "metadata": {
        "id": "krBY0pfiwnOV"
      },
      "source": [
        ""
      ],
      "execution_count": null,
      "outputs": []
    }
  ]
}