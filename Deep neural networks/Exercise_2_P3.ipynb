{
  "nbformat": 4,
  "nbformat_minor": 0,
  "metadata": {
    "kernelspec": {
      "name": "python3",
      "display_name": "Python 3"
    },
    "colab": {
      "name": "Exercise_2_P3.ipynb",
      "provenance": [],
      "collapsed_sections": [],
      "toc_visible": true
    }
  },
  "cells": [
    {
      "cell_type": "markdown",
      "metadata": {
        "id": "VqdiMxZx-EoD"
      },
      "source": [
        "# Linear regression \n",
        "\n",
        "In this exercise you will use linear regression to predict flat prices. One more time, training will be handled via gradient descent. Although, contratry to the first exercise, we will now:\n",
        "* have multiple features (i.e. variables used to make the prediction),\n",
        "* employ some basic feature engineering,\n",
        "* work with a different loss function.\n",
        "\n",
        "Let's start with getting the data."
      ]
    },
    {
      "cell_type": "code",
      "metadata": {
        "id": "heeKjQ2r-EoH",
        "colab": {
          "base_uri": "https://localhost:8080/"
        },
        "outputId": "048ec1ab-f135-461f-e374-9aaa56275a15"
      },
      "source": [
        "%matplotlib inline\n",
        "\n",
        "!wget -O mieszkania.csv https://www.dropbox.com/s/zey0gx91pna8irj/mieszkania.csv?dl=1\n",
        "!wget -O mieszkania_test.csv https://www.dropbox.com/s/dbrj6sbxb4ayqjz/mieszkania_test.csv?dl=1"
      ],
      "execution_count": null,
      "outputs": [
        {
          "output_type": "stream",
          "text": [
            "--2021-03-19 07:52:37--  https://www.dropbox.com/s/zey0gx91pna8irj/mieszkania.csv?dl=1\n",
            "Resolving www.dropbox.com (www.dropbox.com)... 162.125.5.18, 2620:100:601d:18::a27d:512\n",
            "Connecting to www.dropbox.com (www.dropbox.com)|162.125.5.18|:443... connected.\n",
            "HTTP request sent, awaiting response... 301 Moved Permanently\n",
            "Location: /s/dl/zey0gx91pna8irj/mieszkania.csv [following]\n",
            "--2021-03-19 07:52:37--  https://www.dropbox.com/s/dl/zey0gx91pna8irj/mieszkania.csv\n",
            "Reusing existing connection to www.dropbox.com:443.\n",
            "HTTP request sent, awaiting response... 302 Found\n",
            "Location: https://uc1a4ba48f21b7dbbeca68538a5b.dl.dropboxusercontent.com/cd/0/get/BK_uoPPJgz8P7bnC770ExvyN5HMJG4MPccgjjhkld3AvRtIzANr2Gi7DJNPOSbhpcKhnUTdwnDdjko0OusGCccSx1dXbYQHF1wSmfvrRk-aRvs1yBELoKCVB0_INaF261ArAhxU-2JZ3ajkhzng7PPA3/file?dl=1# [following]\n",
            "--2021-03-19 07:52:37--  https://uc1a4ba48f21b7dbbeca68538a5b.dl.dropboxusercontent.com/cd/0/get/BK_uoPPJgz8P7bnC770ExvyN5HMJG4MPccgjjhkld3AvRtIzANr2Gi7DJNPOSbhpcKhnUTdwnDdjko0OusGCccSx1dXbYQHF1wSmfvrRk-aRvs1yBELoKCVB0_INaF261ArAhxU-2JZ3ajkhzng7PPA3/file?dl=1\n",
            "Resolving uc1a4ba48f21b7dbbeca68538a5b.dl.dropboxusercontent.com (uc1a4ba48f21b7dbbeca68538a5b.dl.dropboxusercontent.com)... 162.125.5.15, 2620:100:601d:15::a27d:50f\n",
            "Connecting to uc1a4ba48f21b7dbbeca68538a5b.dl.dropboxusercontent.com (uc1a4ba48f21b7dbbeca68538a5b.dl.dropboxusercontent.com)|162.125.5.15|:443... connected.\n",
            "HTTP request sent, awaiting response... 200 OK\n",
            "Length: 6211 (6.1K) [application/binary]\n",
            "Saving to: ‘mieszkania.csv’\n",
            "\n",
            "mieszkania.csv      100%[===================>]   6.07K  --.-KB/s    in 0s      \n",
            "\n",
            "2021-03-19 07:52:38 (630 MB/s) - ‘mieszkania.csv’ saved [6211/6211]\n",
            "\n",
            "--2021-03-19 07:52:38--  https://www.dropbox.com/s/dbrj6sbxb4ayqjz/mieszkania_test.csv?dl=1\n",
            "Resolving www.dropbox.com (www.dropbox.com)... 162.125.5.18, 2620:100:601d:18::a27d:512\n",
            "Connecting to www.dropbox.com (www.dropbox.com)|162.125.5.18|:443... connected.\n",
            "HTTP request sent, awaiting response... 301 Moved Permanently\n",
            "Location: /s/dl/dbrj6sbxb4ayqjz/mieszkania_test.csv [following]\n",
            "--2021-03-19 07:52:38--  https://www.dropbox.com/s/dl/dbrj6sbxb4ayqjz/mieszkania_test.csv\n",
            "Reusing existing connection to www.dropbox.com:443.\n",
            "HTTP request sent, awaiting response... 302 Found\n",
            "Location: https://uc539035a2ca00557a2d46de7f52.dl.dropboxusercontent.com/cd/0/get/BK9zoY3tJJLiWMMQjY2HN0CCLPKVIccqqtXg93KAjHewQ7ZV8YXhLCkx7KEMMNGVq6m_kjQVfrUR2GA5-UNIQnc1AMcqmJvjzs6WznPwi4yPXr3529phA4LPfOuwooUJylEJqBKtZPxdyWhlP8AdBwnn/file?dl=1# [following]\n",
            "--2021-03-19 07:52:38--  https://uc539035a2ca00557a2d46de7f52.dl.dropboxusercontent.com/cd/0/get/BK9zoY3tJJLiWMMQjY2HN0CCLPKVIccqqtXg93KAjHewQ7ZV8YXhLCkx7KEMMNGVq6m_kjQVfrUR2GA5-UNIQnc1AMcqmJvjzs6WznPwi4yPXr3529phA4LPfOuwooUJylEJqBKtZPxdyWhlP8AdBwnn/file?dl=1\n",
            "Resolving uc539035a2ca00557a2d46de7f52.dl.dropboxusercontent.com (uc539035a2ca00557a2d46de7f52.dl.dropboxusercontent.com)... 162.125.5.15, 2620:100:601d:15::a27d:50f\n",
            "Connecting to uc539035a2ca00557a2d46de7f52.dl.dropboxusercontent.com (uc539035a2ca00557a2d46de7f52.dl.dropboxusercontent.com)|162.125.5.15|:443... connected.\n",
            "HTTP request sent, awaiting response... 200 OK\n",
            "Length: 6247 (6.1K) [application/binary]\n",
            "Saving to: ‘mieszkania_test.csv’\n",
            "\n",
            "mieszkania_test.csv 100%[===================>]   6.10K  --.-KB/s    in 0s      \n",
            "\n",
            "2021-03-19 07:52:39 (556 MB/s) - ‘mieszkania_test.csv’ saved [6247/6247]\n",
            "\n"
          ],
          "name": "stdout"
        }
      ]
    },
    {
      "cell_type": "code",
      "metadata": {
        "id": "yI9wFXv5-EoP",
        "colab": {
          "base_uri": "https://localhost:8080/"
        },
        "outputId": "b66dcb08-943d-4241-ec5c-cfd0dc9780ab"
      },
      "source": [
        "!head mieszkania.csv mieszkania_test.csv"
      ],
      "execution_count": null,
      "outputs": [
        {
          "output_type": "stream",
          "text": [
            "==> mieszkania.csv <==\n",
            "m2,dzielnica,ilość_sypialni,ilość_łazienek,rok_budowy,parking_podziemny,cena\n",
            "104,mokotowo,2,2,1940,1,780094\n",
            "43,ochotowo,1,1,1970,1,346912\n",
            "128,grodziskowo,3,2,1916,1,523466\n",
            "112,mokotowo,3,2,1920,1,830965\n",
            "149,mokotowo,3,3,1977,0,1090479\n",
            "80,ochotowo,2,2,1937,0,599060\n",
            "58,ochotowo,2,1,1922,0,463639\n",
            "23,ochotowo,1,1,1929,0,166785\n",
            "40,mokotowo,1,1,1973,0,318849\n",
            "\n",
            "==> mieszkania_test.csv <==\n",
            "m2,dzielnica,ilość_sypialni,ilość_łazienek,rok_budowy,parking_podziemny,cena\n",
            "71,wolowo,2,2,1912,1,322227\n",
            "45,mokotowo,1,1,1938,0,295878\n",
            "38,mokotowo,1,1,1999,1,306530\n",
            "70,ochotowo,2,2,1980,1,553641\n",
            "136,mokotowo,3,2,1939,1,985348\n",
            "128,wolowo,3,2,1983,1,695726\n",
            "23,grodziskowo,1,1,1975,0,99751\n",
            "117,mokotowo,3,2,1942,0,891261\n",
            "65,ochotowo,2,1,2002,1,536499\n"
          ],
          "name": "stdout"
        }
      ]
    },
    {
      "cell_type": "markdown",
      "metadata": {
        "id": "iH8Ut02G-EoU"
      },
      "source": [
        "Each row in the data represents a separate property. Our goal is to use the data from `mieszkania.csv` to create a model that can predict a property's price (i.e. `cena`) given its features (i.e. `m2,dzielnica,ilosc_sypialni,ilosc_lazienek,rok_budowy,parking_podziemny`). \n",
        "\n",
        "From now on, we should interfere only with `mieszkania.csv` (dubbed the training dataset) to make our decisions and create the model. The (only) purpose of `mieszkania_test.csv` is to test our model on **unseen** data.\n",
        "\n",
        "Our predictions should minimize the so-called mean squared logarithmic error:\n",
        "$$\n",
        "MSLE = \\frac{1}{n} \\sum_{i=1}^n (\\log(1+y_i) - \\log(1+p_i))^2,\n",
        "$$\n",
        "where $y_i$ is the ground truth, and $p_i$ is our prediction."
      ]
    },
    {
      "cell_type": "markdown",
      "metadata": {
        "id": "y8QX6Ncr-EoW"
      },
      "source": [
        "Let's start with implementing the loss function."
      ]
    },
    {
      "cell_type": "code",
      "metadata": {
        "id": "JAiB8S9A-EoX"
      },
      "source": [
        "import numpy as np\n",
        "def msle(y, p):\n",
        "    assert len(y) == len(p)\n",
        "    assert all(p_i >= 0 for p_i in p)\n",
        "    sub = np.log1p(y) - np.log1p(p)\n",
        "    msle = 1/len(y) * (np.dot(sub.transpose(), sub))\n",
        "\n",
        "    return msle"
      ],
      "execution_count": null,
      "outputs": []
    },
    {
      "cell_type": "markdown",
      "metadata": {
        "id": "zAmd2qLR-Eob"
      },
      "source": [
        "The simplest model is predicting the same constant for each instance. Test your implementation of msle against outputing the mean price."
      ]
    },
    {
      "cell_type": "code",
      "metadata": {
        "id": "xPwIWeUjYwGw"
      },
      "source": [
        "import pandas as pd\n",
        "\n",
        "def prepare_data_one_hot(data):\n",
        "  y = data['cena']\n",
        "\n",
        "  X_base = data[['m2','ilość_sypialni','ilość_łazienek','rok_budowy','parking_podziemny']].copy(deep=False)\n",
        "  X = X_base.join(pd.get_dummies(data['dzielnica']))\n",
        "\n",
        "  return X, y"
      ],
      "execution_count": null,
      "outputs": []
    },
    {
      "cell_type": "code",
      "metadata": {
        "id": "b0RT7VW7-Eoc",
        "colab": {
          "base_uri": "https://localhost:8080/"
        },
        "outputId": "7f9da64b-bd30-400d-9b5c-c16ed1436db5"
      },
      "source": [
        "data = pd.read_csv('mieszkania.csv')\n",
        "X_df, y_df = prepare_data_one_hot(data)\n",
        "\n",
        "data_test = pd.read_csv('mieszkania_test.csv')\n",
        "X_test_df, y_test_df = prepare_data_one_hot(data_test)\n",
        "\n",
        "X = X_df.to_numpy()\n",
        "y = y_df.to_numpy()\n",
        "X_test = X_test_df.to_numpy()\n",
        "y_test = y_test_df.to_numpy()\n",
        "\n",
        "msle(y, np.full_like(y, y.mean()))"
      ],
      "execution_count": null,
      "outputs": [
        {
          "output_type": "execute_result",
          "data": {
            "text/plain": [
              "0.3915250389336738"
            ]
          },
          "metadata": {
            "tags": []
          },
          "execution_count": 91
        }
      ]
    },
    {
      "cell_type": "markdown",
      "metadata": {
        "id": "a0zMmTiv-Eof"
      },
      "source": [
        "Recall that outputing the mean minimzes $MSE$. However, we're now dealing with $MSLE$.\n",
        "\n",
        "Think of a constant that should result in the lowest $MSLE$."
      ]
    },
    {
      "cell_type": "code",
      "metadata": {
        "id": "Q0Z4drNd-Eog",
        "colab": {
          "base_uri": "https://localhost:8080/"
        },
        "outputId": "e9e9a7f6-3710-4cfd-9188-8846138866ae"
      },
      "source": [
        "msle(y, np.full_like(y, np.expm1(np.log1p(y).mean())))"
      ],
      "execution_count": null,
      "outputs": [
        {
          "output_type": "execute_result",
          "data": {
            "text/plain": [
              "0.36488961221465716"
            ]
          },
          "metadata": {
            "tags": []
          },
          "execution_count": 92
        }
      ]
    },
    {
      "cell_type": "markdown",
      "metadata": {
        "id": "2RdHlBw8-Eoi"
      },
      "source": [
        "Now, let's implement a standard linear regression model. "
      ]
    },
    {
      "cell_type": "code",
      "metadata": {
        "id": "HKst1nK2ln46"
      },
      "source": [
        "from sklearn.preprocessing import MinMaxScaler\n",
        "\n",
        "class LinearRegression:\n",
        "  def __init__(self):\n",
        "    self.scaler = MinMaxScaler()\n",
        "\n",
        "  def _prepare_X(self, X):\n",
        "    X = self.scaler.fit_transform(X)\n",
        "    X = np.c_[np.ones(X.shape[0]), X]\n",
        "\n",
        "    return X\n",
        "\n",
        "  def fit(self, X, y, n_epochs=10000, alpha=0.25):\n",
        "    n = len(y)\n",
        "    X = self._prepare_X(X)\n",
        "\n",
        "    theta = np.zeros(X.shape[1])\n",
        "\n",
        "    for i in range(n_epochs):\n",
        "      theta = theta - alpha * 2/len(y) * np.dot(X.transpose(),np.dot(X,theta) - y)\n",
        "\n",
        "    self._theta = theta\n",
        "\n",
        "  def predict(self, X):\n",
        "    X = self._prepare_X(X)\n",
        "    \n",
        "    return np.dot(X, self._theta)"
      ],
      "execution_count": null,
      "outputs": []
    },
    {
      "cell_type": "markdown",
      "metadata": {
        "id": "nzrrOte5-Eol"
      },
      "source": [
        "Note that the loss function that the algorithms optimizes (i.e $MSE$) differs from $MSLE$. We've already seen that this may result in a suboptimal solution.\n",
        "\n",
        "How can you change the setting so that we optimze $MSLE$ instead?"
      ]
    },
    {
      "cell_type": "markdown",
      "metadata": {
        "id": "qVD8kWEJ-Eom"
      },
      "source": [
        "Hint: \n",
        "<sub><sup><sub><sup><sub><sup>\n",
        "Be lazy. We don't want to change the algorithm.\n",
        "</sup></sub></sup></sub></sup></sub>"
      ]
    },
    {
      "cell_type": "code",
      "metadata": {
        "id": "MniIPMg8-Eom",
        "colab": {
          "base_uri": "https://localhost:8080/"
        },
        "outputId": "9c0edb4a-b568-4380-baf8-9175c9282989"
      },
      "source": [
        "#batch gradient descent optimizing MSLE\n",
        "regr = LinearRegression()\n",
        "regr.fit(X, np.log1p(y))\n",
        "\n",
        "msle(y, np.expm1(regr.predict(X)))"
      ],
      "execution_count": null,
      "outputs": [
        {
          "output_type": "execute_result",
          "data": {
            "text/plain": [
              "0.030246493245007416"
            ]
          },
          "metadata": {
            "tags": []
          },
          "execution_count": 94
        }
      ]
    },
    {
      "cell_type": "code",
      "metadata": {
        "colab": {
          "base_uri": "https://localhost:8080/"
        },
        "id": "Xzu8AXoTbL09",
        "outputId": "ef1d3665-79d5-4da7-ea99-3e7ceeffdcfc"
      },
      "source": [
        "# sklearn for comparison\n",
        "from sklearn import linear_model\n",
        "\n",
        "sk_regr = linear_model.LinearRegression()\n",
        "sk_regr.fit(X, np.log1p(y))\n",
        "\n",
        "msle(y, np.expm1(sk_regr.predict(X)))"
      ],
      "execution_count": null,
      "outputs": [
        {
          "output_type": "execute_result",
          "data": {
            "text/plain": [
              "0.030246493245007448"
            ]
          },
          "metadata": {
            "tags": []
          },
          "execution_count": 95
        }
      ]
    },
    {
      "cell_type": "code",
      "metadata": {
        "colab": {
          "base_uri": "https://localhost:8080/"
        },
        "id": "AByxyTZj26-5",
        "outputId": "d8a3e83f-3ba3-43ae-9cba-9aa3ae247dcf"
      },
      "source": [
        "# test data\n",
        "\n",
        "print(\"regr test:\", msle(y_test, np.expm1(regr.predict(X_test))))\n",
        "\n",
        "print(\"sklearn test:\", msle(y_test, np.expm1(sk_regr.predict(X_test))))"
      ],
      "execution_count": null,
      "outputs": [
        {
          "output_type": "stream",
          "text": [
            "regr test: 0.03607526545140407\n",
            "sklearn test: 0.03656920580400818\n"
          ],
          "name": "stdout"
        }
      ]
    },
    {
      "cell_type": "markdown",
      "metadata": {
        "id": "OvWrBkLu-Eoo"
      },
      "source": [
        "Without any feature engineering our model approximates the price as a linear combination of original features:\n",
        "$$\n",
        "\\text{price} \\approx w_1 \\cdot \\text{area} + w_2 \\cdot \\text{district} + \\dots.\n",
        "$$\n",
        "Let's now introduce some interactions between the variables. For instance, let's consider a following formula:\n",
        "$$\n",
        "\\text{price} \\approx w_1 \\cdot \\text{area} \\cdot \\text{avg. price in the district per sq. meter} + w_2 \\cdot \\dots + \\dots.\n",
        "$$\n",
        "Here, we model the price with far greater granularity, and we may expect to see more acurate results."
      ]
    },
    {
      "cell_type": "markdown",
      "metadata": {
        "id": "zBM60E7t-Eop"
      },
      "source": [
        "Add some feature engineering to your model. Be sure to play with the data and not with the algorithm's code. \n",
        "\n",
        "Think how to make sure that your model is capable of capturing the $w_1 \\cdot \\text{area} \\cdot \\text{avg. price...}$ part, without actually computing the averages."
      ]
    },
    {
      "cell_type": "markdown",
      "metadata": {
        "id": "XT5DziNC-Eoq"
      },
      "source": [
        "Hint: \n",
        "<sub><sup><sub><sup><sub><sup>\n",
        "Is having a binary encoding for each district and multiplying it by area enough?\n",
        "</sup></sub></sup></sub></sup></sub>"
      ]
    },
    {
      "cell_type": "code",
      "metadata": {
        "id": "DPviz09O-Eor"
      },
      "source": [
        "def prepare_data_fe1(data):\n",
        "  y = data['cena']\n",
        "  X = data[['ilość_sypialni','ilość_łazienek','rok_budowy','parking_podziemny']].copy(deep=False)\n",
        "  one_hot_areas = pd.get_dummies(data['dzielnica'])\n",
        "  X = X.join(one_hot_areas)\n",
        "  areas_m2 = one_hot_areas.multiply(data['m2'], axis='index')\n",
        "  X = X.join(areas_m2.rename(lambda c: c + '_m2', axis='columns'))\n",
        "\n",
        "  return X, y\n",
        "\n",
        "X_df, y_df = prepare_data_fe1(data)\n",
        "X_test_df, y_test_df = prepare_data_fe1(data_test)\n",
        "\n",
        "X = X_df.to_numpy()\n",
        "y = y_df.to_numpy()\n",
        "X_test = X_test_df.to_numpy()\n",
        "y_test = y_test_df.to_numpy()"
      ],
      "execution_count": null,
      "outputs": []
    },
    {
      "cell_type": "code",
      "metadata": {
        "id": "v2Lj1TPr-Eot",
        "colab": {
          "base_uri": "https://localhost:8080/"
        },
        "outputId": "91017ad8-f82c-4029-b56b-42f29d0ce4c9"
      },
      "source": [
        "regr.fit(X, np.log1p(y))\n",
        "\n",
        "print(\"grad train:\", msle(y, np.expm1(regr.predict(X))))\n",
        "\n",
        "sk_regr.fit(X, np.log1p(y))\n",
        "\n",
        "print(\"sklearn train:\", msle(y, np.expm1(sk_regr.predict(X))))\n",
        "\n",
        "print(\"grad test:\", msle(y_test, np.expm1(regr.predict(X_test))))\n",
        "\n",
        "print(\"sklearn test:\", msle(y_test, np.expm1(sk_regr.predict(X_test))))\n",
        "\n",
        "\n"
      ],
      "execution_count": null,
      "outputs": [
        {
          "output_type": "stream",
          "text": [
            "grad train: 0.029005804926352213\n",
            "sklearn train: 0.029005736586170082\n",
            "grad test: 0.03848634485764882\n",
            "sklearn test: 0.03732843869482354\n"
          ],
          "name": "stdout"
        }
      ]
    },
    {
      "cell_type": "markdown",
      "metadata": {
        "id": "PKOVCHNz-Eor"
      },
      "source": [
        "Hint 2: \n",
        "<sub><sup><sub><sup><sub><sup>\n",
        "Why not multiply everything together? I.e. (A,B,C) -> (AB,AC,BC).\n",
        "</sup></sub></sup></sub></sup></sub>"
      ]
    },
    {
      "cell_type": "code",
      "metadata": {
        "id": "nUqAQgdGSOGN"
      },
      "source": [
        "from itertools import permutations\n",
        "\n",
        "def prepare_data_fe2(data):\n",
        "  y = data['cena']\n",
        "  X = data[['m2','ilość_sypialni','ilość_łazienek','rok_budowy','parking_podziemny']].copy(deep=False)\n",
        "  one_hot_areas = pd.get_dummies(data['dzielnica'])\n",
        "  X = X.join(one_hot_areas)\n",
        "\n",
        "  for a, b in permutations(X.keys(), 2):\n",
        "   X[a + b] = X[a] * X[b]\n",
        "\n",
        "  return X, y\n",
        "\n",
        "X_df, y_df = prepare_data_fe2(data)\n",
        "X_test_df, y_test_df = prepare_data_fe2(data_test)\n",
        "\n",
        "X = X_df.to_numpy()\n",
        "y = y_df.to_numpy()\n",
        "X_test = X_test_df.to_numpy()\n",
        "y_test = y_test_df.to_numpy()"
      ],
      "execution_count": null,
      "outputs": []
    },
    {
      "cell_type": "code",
      "metadata": {
        "colab": {
          "base_uri": "https://localhost:8080/"
        },
        "id": "n-iJ8CM5SOZ2",
        "outputId": "2b64a1c1-e649-4e60-fd1e-1f340ea19446"
      },
      "source": [
        "regr.fit(X, np.log1p(y), alpha=0.13)\n",
        "\n",
        "print(\"grad train:\", msle(y, np.expm1(regr.predict(X))))\n",
        "\n",
        "sk_regr.fit(X, np.log1p(y))\n",
        "\n",
        "print(\"sklearn train:\", msle(y, np.expm1(sk_regr.predict(X))))\n",
        "\n",
        "print(\"grad test:\", msle(y_test, np.expm1(regr.predict(X_test))))\n",
        "\n",
        "print(\"sklearn test:\", msle(y_test, np.expm1(sk_regr.predict(X_test))))\n",
        "\n"
      ],
      "execution_count": null,
      "outputs": [
        {
          "output_type": "stream",
          "text": [
            "grad train: 0.009119717627151787\n",
            "sklearn train: 0.006913078797161807\n",
            "grad test: 0.01891937577157615\n",
            "sklearn test: 0.019052584305124624\n"
          ],
          "name": "stdout"
        }
      ]
    },
    {
      "cell_type": "markdown",
      "metadata": {
        "id": "qMeI3m9u-ZBN"
      },
      "source": [
        "# Validation and cross-validation \n",
        "\n",
        "In this exercise you will implement a validation pipeline. \n",
        "\n",
        "At the end of Exercise 2, you tested your model against the training and test datasets. As you should observe, there's a gap between the results. By validating your model, not only should you be able to anticipate the test time performance, but also have a method to compare different models.\n",
        "\n",
        "Implement the basic validation method, i.e. a random split. Test it with your model from Exercise 2."
      ]
    },
    {
      "cell_type": "code",
      "metadata": {
        "id": "Ca0nRHYL-ZBR"
      },
      "source": [
        "from sklearn.utils import shuffle as sk_shuffle\n",
        "\n",
        "# Split a dataset into a train and test set\n",
        "def random_split(X, y, split=0.80, shuffle=False):\n",
        "  assert len(X) == len(y)\n",
        "\n",
        "  if shuffle==True:\n",
        "    X, y = sk_shuffle(X, y)\n",
        "\n",
        "  tear = int(len(X)*split)\n",
        "  return X[:tear], y[:tear], X[(tear - len(X)):], y[(tear - len(X)):]"
      ],
      "execution_count": null,
      "outputs": []
    },
    {
      "cell_type": "code",
      "metadata": {
        "colab": {
          "base_uri": "https://localhost:8080/"
        },
        "id": "DB9Z3BLMuwrm",
        "outputId": "c377e836-6908-41ff-da2b-5836628b5504"
      },
      "source": [
        "X_train, y_train, X_validate, y_validate = random_split(X, y, split=0.6, shuffle=True)\n",
        "\n",
        "regr.fit(X_train, np.log1p(y_train), alpha=0.12)\n",
        "print(\"train:\", msle(y_train, np.expm1(regr.predict(X_train))))\n",
        "print(\"validate:\", msle(y_validate, np.expm1(regr.predict(X_validate))))\n",
        "print(\"test:\", msle(y_test, np.expm1(regr.predict(X_test))))\n"
      ],
      "execution_count": null,
      "outputs": [
        {
          "output_type": "stream",
          "text": [
            "train: 0.0078091246993733255\n",
            "validate: 0.039050332701449225\n",
            "test: 0.02101118547755668\n"
          ],
          "name": "stdout"
        }
      ]
    },
    {
      "cell_type": "markdown",
      "metadata": {
        "id": "tnnf-KvC-ZBW"
      },
      "source": [
        "To make the random split validation reliable, a huge chunk of training data may be needed. To get over this problem, one may apply cross-validaiton.\n",
        "\n",
        "![alt-text](https://chrisjmccormick.files.wordpress.com/2013/07/10_fold_cv.png)"
      ]
    },
    {
      "cell_type": "markdown",
      "metadata": {
        "id": "sbu4F_h9-ZBX"
      },
      "source": [
        "Let's now implement the method. Make sure that:\n",
        "* number of partitions is a parameter,\n",
        "* the method is not limited to `mieszkania.csv`,\n",
        "* the method is not limited to one specific model."
      ]
    },
    {
      "cell_type": "code",
      "metadata": {
        "id": "dbfmYPOh-ZBY"
      },
      "source": [
        "def cv(X, y, fit, predict, partitions=10, shuffle=False):\n",
        "  assert len(X) == len(y)\n",
        "\n",
        "  if shuffle==True:\n",
        "    X, y = sk_shuffle(X, y)\n",
        "\n",
        "  errors = []\n",
        "  psize = int(len(X)/partitions) \n",
        "  for i in range(partitions):\n",
        "    indices = np.arange(i*psize,(i+1)*psize)\n",
        "    X_val = X[indices]\n",
        "    y_val = y[indices]\n",
        "    X_train = np.delete(X, indices, axis=0)\n",
        "    y_train = np.delete(y, indices, axis=0)\n",
        "    fit(X_train, np.log1p(y_train))\n",
        "    errors.append(msle(y_val, np.expm1(predict(X_val))))\n",
        "  \n",
        "  return np.mean(errors), np.std(errors)"
      ],
      "execution_count": null,
      "outputs": []
    },
    {
      "cell_type": "code",
      "metadata": {
        "colab": {
          "base_uri": "https://localhost:8080/"
        },
        "id": "QURq1uVVHJ7J",
        "outputId": "a7696208-bf02-4037-e66c-b0ecd1554595"
      },
      "source": [
        "mean, std = cv(X, y, lambda X, y: regr.fit(X, y, alpha=0.12), regr.predict)\n",
        "print(\"CV average cost:\", mean, \"std: \", std)\n",
        "\n",
        "print(\"test cost:\", msle(y_test, np.expm1(regr.predict(X_test))))"
      ],
      "execution_count": null,
      "outputs": [
        {
          "output_type": "stream",
          "text": [
            "CV average cost: 0.13936859705887172 std:  0.04572226335518314\n",
            "test cost: 0.01974502581423534\n"
          ],
          "name": "stdout"
        }
      ]
    },
    {
      "cell_type": "code",
      "metadata": {
        "colab": {
          "base_uri": "https://localhost:8080/"
        },
        "id": "9KKG9EOXJhbS",
        "outputId": "b714aed8-9885-4df3-eec3-c67108766fdd"
      },
      "source": [
        "#compare with sklearn\n",
        "\n",
        "mean, std = cv(X, y, sk_regr.fit, sk_regr.predict)\n",
        "print(\"CV average cost:\", mean, \"std: \", std)\n",
        "\n",
        "print(\"test cost:\", msle(y_test, np.expm1(sk_regr.predict(X_test))))"
      ],
      "execution_count": null,
      "outputs": [
        {
          "output_type": "stream",
          "text": [
            "CV average cost: 0.010220534359531167 std:  0.005968422603890916\n",
            "test cost: 0.019828749541847844\n"
          ],
          "name": "stdout"
        }
      ]
    },
    {
      "cell_type": "markdown",
      "metadata": {
        "id": "sF2-UXXR-ZBc"
      },
      "source": [
        "Recall that sometimes validation may be tricky, e.g. significant class imbalance, having a small number of subjects, geographically clustered instances...\n",
        "\n",
        "What could in theory go wrong here with random, unstratified partitions? Think about potential solutions and investigate the data in order to check whether these problems arise here."
      ]
    },
    {
      "cell_type": "code",
      "metadata": {
        "colab": {
          "base_uri": "https://localhost:8080/"
        },
        "id": "qeP70SIaBTSN",
        "outputId": "e7bd52be-d3da-4ffe-de5d-130a2f5d0387"
      },
      "source": [
        "# Results without feature engineering for reference\n",
        "\n",
        "X_df, y_df = prepare_data_one_hot(data)\n",
        "X_test_df, y_test_df = prepare_data_one_hot(data_test)\n",
        "\n",
        "X = X_df.to_numpy()\n",
        "y = y_df.to_numpy()\n",
        "X_test = X_test_df.to_numpy()\n",
        "y_test = y_test_df.to_numpy()\n",
        "\n",
        "mean, std = cv(X, y, lambda X, y: regr.fit(X, y, alpha=0.13), regr.predict)\n",
        "print(\"CV average cost:\", mean, \"std: \", std)\n",
        "\n",
        "print(\"test cost:\", msle(y_test, np.expm1(regr.predict(X_test))))"
      ],
      "execution_count": null,
      "outputs": [
        {
          "output_type": "stream",
          "text": [
            "CV average cost: 0.04478389637889145 std:  0.018801435549955014\n",
            "test cost: 0.03741034973497942\n"
          ],
          "name": "stdout"
        }
      ]
    },
    {
      "cell_type": "code",
      "metadata": {
        "id": "bt-y3kUy-ZBe",
        "colab": {
          "base_uri": "https://localhost:8080/"
        },
        "outputId": "0d45a4cb-1ee1-4e0a-bd94-6b68e17091fc"
      },
      "source": [
        "# Training data excluding one neighbourhood ['mokotowo']\n",
        "X_df_excl = X_df[X_df.mokotowo.eq(0)]\n",
        "y_df_excl = y_df[X_df_excl.index]\n",
        "\n",
        "X = X_df_excl.to_numpy()\n",
        "y = y_df_excl.to_numpy()\n",
        "\n",
        "regr.fit(X, np.log1p(y))\n",
        "\n",
        "print(\"train:\", msle(y, np.expm1(regr.predict(X))))\n",
        "print(\"test:\", msle(y_test, np.expm1(regr.predict(X_test))))"
      ],
      "execution_count": null,
      "outputs": [
        {
          "output_type": "stream",
          "text": [
            "train: 0.029761515981671923\n",
            "test: 2.5669859054032735\n"
          ],
          "name": "stdout"
        }
      ]
    },
    {
      "cell_type": "code",
      "metadata": {
        "id": "Bnso_pyPHxjA"
      },
      "source": [
        "# # Training and test sets mutually disjoint neighbourhood-wise\n",
        "# X_test_df_excl = X_test_df[X_test_df.grodziskowo.eq(0)]\n",
        "# X_test_df_excl = X_test_df_excl[X_test_df_excl.ochotowo.eq(0)]\n",
        "# y_test_df_excl = y_test_df[X_test_df_excl.index]\n",
        "\n",
        "# X_test = X_test_df_excl.to_numpy()\n",
        "# y_test = y_test_df_excl.to_numpy()\n",
        "\n",
        "# print(\"test:\", msle(y_test, np.expm1(regr.predict(X_test))))"
      ],
      "execution_count": null,
      "outputs": []
    },
    {
      "cell_type": "code",
      "metadata": {
        "id": "So5sKC-yCd18"
      },
      "source": [
        "from matplotlib import pyplot as plt\n",
        "\n",
        "def plot_pie(column):\n",
        "  labels = set(data[column].values)\n",
        "  train_values = data[column].value_counts()\n",
        "  test_values = data_test[column].value_counts()\n",
        "\n",
        "  fig, (ax1, ax2) = plt.subplots(1,2, figsize=(8,4))\n",
        "\n",
        "  train_values.plot.pie(labels=labels, ax=ax1, label=\"Train\")\n",
        "  test_values.plot.pie(labels=labels, ax=ax2, label=\"Test\")\n",
        "  plt.tight_layout()\n",
        "      "
      ],
      "execution_count": null,
      "outputs": []
    },
    {
      "cell_type": "code",
      "metadata": {
        "colab": {
          "base_uri": "https://localhost:8080/",
          "height": 820
        },
        "id": "7xgrdlsxUbcY",
        "outputId": "58df2dd3-3cc8-4535-97b3-981d8325d31e"
      },
      "source": [
        "pies = ['dzielnica', 'ilość_łazienek', 'ilość_sypialni']\n",
        "for c in pies:\n",
        "  plot_pie(c)"
      ],
      "execution_count": null,
      "outputs": [
        {
          "output_type": "display_data",
          "data": {
            "image/png": "[encoded data removed]",
            "text/plain": [
              "<Figure size 576x288 with 2 Axes>"
            ]
          },
          "metadata": {
            "tags": []
          }
        },
        {
          "output_type": "display_data",
          "data": {
            "image/png": "[encoded data removed]",
            "text/plain": [
              "<Figure size 576x288 with 2 Axes>"
            ]
          },
          "metadata": {
            "tags": []
          }
        },
        {
          "output_type": "display_data",
          "data": {
            "image/png": "[encoded data removed]",
            "text/plain": [
              "<Figure size 576x288 with 2 Axes>"
            ]
          },
          "metadata": {
            "tags": []
          }
        }
      ]
    },
    {
      "cell_type": "code",
      "metadata": {
        "id": "cVV1egNPn13w"
      },
      "source": [
        "from matplotlib import pyplot as plt\n",
        "\n",
        "def plot_distribution(column):\n",
        "  dist_train = data[column]\n",
        "  dist_test = data_test[column]\n",
        "\n",
        "  fig, ax = plt.subplots()\n",
        "  dist_train.plot.kde(ax=ax, legend=True, label=\"Train\")\n",
        "  dist_test.plot.kde(ax=ax, legend=True, label=\"Test\")\n",
        "  ax.set_ylabel(\"\")\n",
        "  ax.set_title(column)\n",
        "  plt.show()"
      ],
      "execution_count": null,
      "outputs": []
    },
    {
      "cell_type": "code",
      "metadata": {
        "colab": {
          "base_uri": "https://localhost:8080/",
          "height": 809
        },
        "id": "d5HJyTMWEuN4",
        "outputId": "16fb0380-916c-4ecb-b9bd-65ddd601ffee"
      },
      "source": [
        "for c in data.columns.difference(pies + ['cena']):\n",
        "  plot_distribution(c)"
      ],
      "execution_count": null,
      "outputs": [
        {
          "output_type": "display_data",
          "data": {
            "image/png": "[encoded data removed]",
            "text/plain": [
              "<Figure size 432x288 with 1 Axes>"
            ]
          },
          "metadata": {
            "tags": [],
            "needs_background": "light"
          }
        },
        {
          "output_type": "display_data",
          "data": {
            "image/png": "[encoded data removed]",
            "text/plain": [
              "<Figure size 432x288 with 1 Axes>"
            ]
          },
          "metadata": {
            "tags": [],
            "needs_background": "light"
          }
        },
        {
          "output_type": "display_data",
          "data": {
            "image/png": "[encoded data removed]",
            "text/plain": [
              "<Figure size 432x288 with 1 Axes>"
            ]
          },
          "metadata": {
            "tags": [],
            "needs_background": "light"
          }
        }
      ]
    }
  ]
}