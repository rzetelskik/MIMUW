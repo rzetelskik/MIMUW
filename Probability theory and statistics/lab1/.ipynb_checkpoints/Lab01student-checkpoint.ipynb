{
 "cells": [
  {
   "cell_type": "markdown",
   "metadata": {},
   "source": [
    "# Birthday paradox"
   ]
  },
  {
   "cell_type": "markdown",
   "metadata": {},
   "source": [
    "**Problem 1a.** During exercise session, we showed that for $d$ equally likely dates in a year and $n$ people, the probability of a repeat date is $p(n)=1-\\frac{d^\\underline{n}}{d^n}$. We also derived a simple approximate formula for this probability: $p_a(n) = 1-e^{-\\frac{n(n-1)}{2d}}$. In particular, this approximation implies that for $d=365$ dates, $p(n)$ is close to $\\frac{1}{2}$ for $n=23$.\n",
    "\n",
    "Verify how good the approximation is. To this end, write a program that computes the exact value of $p(n)$ as well as the value of the approximation $p_a(n)$ for $d=365$ and $n=1,\\ldots,60$. Plot the graphs of the two functions."
   ]
  },
  {
   "cell_type": "code",
   "execution_count": 1,
   "metadata": {},
   "outputs": [
    {
     "data": {
      "text/plain": [
       "<Figure size 640x480 with 1 Axes>"
      ]
     },
     "metadata": {},
     "output_type": "display_data"
    }
   ],
   "source": [
    "import math\n",
    "import matplotlib.pyplot as plt\n",
    "\n",
    "def fallingFactorial(d, n):\n",
    "    prod = 1.0\n",
    "    for i in range(0, n):\n",
    "        prod *= (d - i)\n",
    "    return prod\n",
    "\n",
    "def p(n):\n",
    "    return 1 - fallingFactorial(365, n)/365**n\n",
    "\n",
    "def pa(n):\n",
    "    return 1 - math.exp((-n * (n - 1.0)) / (2 * 365))\n",
    "\n",
    "n = range(1,60)\n",
    "\n",
    "\n",
    "plt.plot(n, [p(i) for i in n])\n",
    "plt.plot(n, [pa(i) for i in n])\n",
    "plt.show()\n"
   ]
  },
  {
   "cell_type": "markdown",
   "metadata": {},
   "source": [
    "**Problem 1b.**\n",
    "Implement a function, that chooses random dates out of $1,\\ldots,d$ until a repeat occurs. The function should return the number of the step in which that happened. Run the function $N=100\\,000$ times. \n",
    "    * Plot a histogram of the return values.\n",
    "    * Which return value seems most likely? \n",
    "    * What is the average of the return values?\n",
    "    * Is there any simple relation between these two numbers and the value $23$ in the previous problem?\n",
    "    * Is there any simple relation between the histogram obtained, and the plot in the previous problem?"
   ]
  },
  {
   "cell_type": "code",
   "execution_count": 5,
   "metadata": {},
   "outputs": [
    {
     "data": {
      "image/png": "[encoded data removed]",
      "text/plain": [
       "<Figure size 432x288 with 1 Axes>"
      ]
     },
     "metadata": {
      "needs_background": "light"
     },
     "output_type": "display_data"
    }
   ],
   "source": [
    "from random import randrange\n",
    "import matplotlib.pyplot as plt\n",
    "\n",
    "def first_repeat(d):\n",
    "    person_set = set()\n",
    "    \n",
    "    rand = randrange(d)\n",
    "    while rand not in person_set:\n",
    "        person_set.add(rand)\n",
    "        rand = randrange(d)\n",
    "        \n",
    "    return len(person_set) + 1\n",
    "\n",
    "n = range(1, 100000)\n",
    "results = [first_repeat(365) for i in n]\n",
    "plt.hist(results, bins=range(1,60))\n",
    "plt.show()"
   ]
  },
  {
   "cell_type": "markdown",
   "metadata": {},
   "source": [
    "**Problem 1c.** Here we investigate how our analysis using the classical approach compares to a more empirical one. The file *us_births_69_88.csv* contains the counts for birthdates from 1969 to 1988. Only those births, for which the full date is known, are included in the file.\n",
    "    * Read the file.\n",
    "    * Investigate the data. Do you notice anything strange?\n",
    "    * Plot a heatmap of the data. Do you notice any significant deviations from the uniform assumption? Can you explain them?\n",
    "    * Implement a sampling function as in 1b, but this time using the supplied data. Compare the results."
   ]
  },
  {
   "cell_type": "code",
   "execution_count": 3,
   "metadata": {},
   "outputs": [
    {
     "data": {
      "text/plain": [
       "<matplotlib.collections.PolyCollection at 0x7f06291999d0>"
      ]
     },
     "execution_count": 3,
     "metadata": {},
     "output_type": "execute_result"
    },
    {
     "data": {
      "image/png": "[encoded data removed]",
      "text/plain": [
       "<Figure size 432x288 with 1 Axes>"
      ]
     },
     "metadata": {
      "needs_background": "light"
     },
     "output_type": "display_data"
    }
   ],
   "source": [
    "import numpy as np\n",
    "import bisect\n",
    "from matplotlib import pyplot\n",
    "file = np.loadtxt('us_births_69_88.csv', skiprows=1, delimiter=',', dtype=int)\n",
    "\n",
    "Matrix = [[0]*31 for i in range(12)]\n",
    "\n",
    "for i in file:\n",
    "    Matrix[i[0] - 1][i[1] - 1] = i[2]\n",
    "        \n",
    "pyplot.pcolor(Matrix)\n",
    "\n",
    "\n"
   ]
  },
  {
   "cell_type": "code",
   "execution_count": 4,
   "metadata": {},
   "outputs": [
    {
     "data": {
      "image/png": "[encoded data removed]",
      "text/plain": [
       "<Figure size 432x288 with 1 Axes>"
      ]
     },
     "metadata": {
      "needs_background": "light"
     },
     "output_type": "display_data"
    }
   ],
   "source": [
    "buckets = [0] * len(file)\n",
    "\n",
    "sum = 0\n",
    "for i in range(len(file)):\n",
    "    sum += file[i][2]\n",
    "    buckets[i] = sum\n",
    "\n",
    "def sample():\n",
    "    date_set = set()\n",
    "    \n",
    "    rand = bisect.bisect_left(buckets, randrange(sum))\n",
    "    while rand not in date_set:\n",
    "        date_set.add(rand)\n",
    "        rand = bisect.bisect_left(buckets, randrange(sum))\n",
    "        \n",
    "    return len(date_set) + 1\n",
    "    \n",
    "n = range(1, 100000)\n",
    "pyplot.hist([sample() for i in n], bins=range(1,60))\n",
    "pyplot.show()"
   ]
  }
 ],
 "metadata": {
  "kernelspec": {
   "display_name": "Python 2",
   "language": "python",
   "name": "python2"
  },
  "language_info": {
   "codemirror_mode": {
    "name": "ipython",
    "version": 2
   },
   "file_extension": ".py",
   "mimetype": "text/x-python",
   "name": "python",
   "nbconvert_exporter": "python",
   "pygments_lexer": "ipython2",
   "version": "2.7.15+"
  }
 },
 "nbformat": 4,
 "nbformat_minor": 1
}
